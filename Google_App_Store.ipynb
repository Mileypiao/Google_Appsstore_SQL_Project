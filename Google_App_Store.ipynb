{
 "cells": [
  {
   "cell_type": "markdown",
   "metadata": {},
   "source": [
    "# Group 1- Google Play App Store Data Analysis"
   ]
  },
  {
   "cell_type": "markdown",
   "metadata": {},
   "source": [
    "## Download the data from S3"
   ]
  },
  {
   "cell_type": "code",
   "execution_count": 1,
   "metadata": {},
   "outputs": [
    {
     "name": "stdout",
     "output_type": "stream",
     "text": [
      "--2019-12-02 00:23:13--  https://gwu-mileypiao888.s3.amazonaws.com/Google_Playstore.csv\n",
      "Resolving gwu-mileypiao888.s3.amazonaws.com (gwu-mileypiao888.s3.amazonaws.com)... 52.216.170.227\n",
      "Connecting to gwu-mileypiao888.s3.amazonaws.com (gwu-mileypiao888.s3.amazonaws.com)|52.216.170.227|:443... connected.\n",
      "HTTP request sent, awaiting response... 200 OK\n",
      "Length: 31416840 (30M) [text/csv]\n",
      "Saving to: ‘Google_Playstore.csv’\n",
      "\n",
      "Google_Playstore.cs 100%[===================>]  29.96M  52.7MB/s    in 0.6s    \n",
      "\n",
      "2019-12-02 00:23:14 (52.7 MB/s) - ‘Google_Playstore.csv’ saved [31416840/31416840]\n",
      "\n"
     ]
    }
   ],
   "source": [
    "!wget https://gwu-mileypiao888.s3.amazonaws.com/Google_Playstore.csv"
   ]
  },
  {
   "cell_type": "code",
   "execution_count": 1,
   "metadata": {},
   "outputs": [
    {
     "name": "stdout",
     "output_type": "stream",
     "text": [
      "\u001b[33mYou are using pip version 18.0, however version 19.3.1 is available.\n",
      "You should consider upgrading via the 'pip install --upgrade pip' command.\u001b[0m\n",
      "ipython-sql==0.3.9\n",
      "psycopg2==2.7.5\n",
      "psycopg2-binary==2.7.5\n"
     ]
    }
   ],
   "source": [
    "!pip freeze | grep -E 'ipython-sql|psycopg2'"
   ]
  },
  {
   "cell_type": "code",
   "execution_count": 3,
   "metadata": {},
   "outputs": [
    {
     "name": "stdout",
     "output_type": "stream",
     "text": [
      "dropdb: database removal failed: ERROR:  database \"Group1\" is being accessed by other users\n",
      "DETAIL:  There is 1 other session using the database.\n"
     ]
    }
   ],
   "source": [
    "!dropdb -U student Group1"
   ]
  },
  {
   "cell_type": "code",
   "execution_count": 4,
   "metadata": {},
   "outputs": [
    {
     "name": "stdout",
     "output_type": "stream",
     "text": [
      "createdb: database creation failed: ERROR:  database \"Group1\" already exists\n"
     ]
    }
   ],
   "source": [
    "!createdb -U student Group1"
   ]
  },
  {
   "cell_type": "code",
   "execution_count": 2,
   "metadata": {},
   "outputs": [],
   "source": [
    "%load_ext sql"
   ]
  },
  {
   "cell_type": "code",
   "execution_count": 3,
   "metadata": {},
   "outputs": [
    {
     "data": {
      "text/plain": [
       "'Connected: student@Group1'"
      ]
     },
     "execution_count": 3,
     "metadata": {},
     "output_type": "execute_result"
    }
   ],
   "source": [
    "%sql postgresql://student@/Group1"
   ]
  },
  {
   "cell_type": "markdown",
   "metadata": {},
   "source": [
    "## Create original table"
   ]
  },
  {
   "cell_type": "markdown",
   "metadata": {},
   "source": [
    "Original table is used to create fact and dimension tables."
   ]
  },
  {
   "cell_type": "code",
   "execution_count": 4,
   "metadata": {},
   "outputs": [
    {
     "name": "stdout",
     "output_type": "stream",
     "text": [
      " * postgresql://student@/Group1\n",
      "Done.\n",
      "Done.\n"
     ]
    },
    {
     "data": {
      "text/plain": [
       "[]"
      ]
     },
     "execution_count": 4,
     "metadata": {},
     "output_type": "execute_result"
    }
   ],
   "source": [
    "%%sql\n",
    "DROP TABLE IF EXISTS Google_Playstore Cascade;\n",
    "\n",
    "CREATE TABLE Google_Playstore (\n",
    "APP_ID NUMERIC(10) NOT NULL,\n",
    "APP_NAME VARCHAR(100),\n",
    "CATE_NAME VARCHAR(50),\n",
    "RATING NUMERIC(3,2),\n",
    "REVIEW NUMERIC(25),\n",
    "INSTALL NUMERIC(10),\n",
    "SIZE_NUMBER NUMERIC(10,2),\n",
    "SIZE_MAGNITUDE VARCHAR(10),\n",
    "FULL_SIZE VARCHAR(10), \n",
    "PRICE NUMERIC(10,2),\n",
    "CONTENT_RATING VARCHAR(25),\n",
    "LAST_UPDATE_DAY VARCHAR(3),\n",
    "LAST_UPDATE_MONTH VARCHAR(25),\n",
    "LAST_UPDATE_YEAR VARCHAR(4),\n",
    "FULL_DATE VARCHAR(15),\n",
    "MIN_VERSION VARCHAR(25),\n",
    "LATEST_VERSION VARCHAR(100),\n",
    "    \n",
    "    PRIMARY KEY(APP_ID),\n",
    "    UNIQUE (APP_ID)\n",
    ");"
   ]
  },
  {
   "cell_type": "code",
   "execution_count": 5,
   "metadata": {},
   "outputs": [
    {
     "name": "stdout",
     "output_type": "stream",
     "text": [
      " * postgresql://student@/Group1\n",
      "266994 rows affected.\n"
     ]
    },
    {
     "data": {
      "text/plain": [
       "[]"
      ]
     },
     "execution_count": 5,
     "metadata": {},
     "output_type": "execute_result"
    }
   ],
   "source": [
    "%%sql\n",
    "COPY Google_Playstore FROM '/home/ubuntu/Google_Playstore.csv' DELIMITER ',';"
   ]
  },
  {
   "cell_type": "markdown",
   "metadata": {},
   "source": [
    "## Facts and Dimensions"
   ]
  },
  {
   "cell_type": "markdown",
   "metadata": {},
   "source": [
    "### We divided the original dataset 6 dimensions: Price, Category, Install,Size, Day and Evaluation; 1 fact: App.\n",
    "- As in each dimention, there is no coloumn containing unique values as a natural key, thus we manually created surrogate keys."
   ]
  },
  {
   "cell_type": "code",
   "execution_count": 6,
   "metadata": {},
   "outputs": [],
   "source": [
    "from IPython.display import Image"
   ]
  },
  {
   "cell_type": "code",
   "execution_count": 7,
   "metadata": {},
   "outputs": [
    {
     "data": {
      "text/html": [
       "<img src=\"https://gwu-mileypiao888.s3.amazonaws.com/Facts.jpeg\"/>"
      ],
      "text/plain": [
       "<IPython.core.display.Image object>"
      ]
     },
     "execution_count": 7,
     "metadata": {},
     "output_type": "execute_result"
    }
   ],
   "source": [
    "Image(url=\"https://gwu-mileypiao888.s3.amazonaws.com/Facts.jpeg\")"
   ]
  },
  {
   "cell_type": "markdown",
   "metadata": {},
   "source": [
    "## Create Price Table"
   ]
  },
  {
   "cell_type": "markdown",
   "metadata": {},
   "source": [
    "Price table contains information about price of apps and whether they are paid ones or free ones."
   ]
  },
  {
   "cell_type": "code",
   "execution_count": 8,
   "metadata": {},
   "outputs": [
    {
     "name": "stdout",
     "output_type": "stream",
     "text": [
      " * postgresql://student@/Group1\n",
      "Done.\n",
      "Done.\n"
     ]
    },
    {
     "data": {
      "text/plain": [
       "[]"
      ]
     },
     "execution_count": 8,
     "metadata": {},
     "output_type": "execute_result"
    }
   ],
   "source": [
    "%%sql\n",
    "DROP TABLE IF EXISTS price CASCADE;\n",
    "\n",
    "CREATE TABLE price (\n",
    "    key SERIAL PRIMARY KEY,\n",
    "    price_number NUMERIC(5,2),\n",
    "    is_paid NUMERIC(1,0) DEFAULT 0\n",
    ");"
   ]
  },
  {
   "cell_type": "code",
   "execution_count": 9,
   "metadata": {},
   "outputs": [
    {
     "name": "stdout",
     "output_type": "stream",
     "text": [
      " * postgresql://student@/Group1\n",
      "266994 rows affected.\n"
     ]
    },
    {
     "data": {
      "text/plain": [
       "[]"
      ]
     },
     "execution_count": 9,
     "metadata": {},
     "output_type": "execute_result"
    }
   ],
   "source": [
    "%%sql\n",
    "INSERT INTO price (price_number)\n",
    "SELECT price\n",
    "FROM Google_Playstore;"
   ]
  },
  {
   "cell_type": "code",
   "execution_count": 10,
   "metadata": {},
   "outputs": [
    {
     "name": "stdout",
     "output_type": "stream",
     "text": [
      " * postgresql://student@/Group1\n",
      "11604 rows affected.\n"
     ]
    },
    {
     "data": {
      "text/plain": [
       "[]"
      ]
     },
     "execution_count": 10,
     "metadata": {},
     "output_type": "execute_result"
    }
   ],
   "source": [
    "%%sql\n",
    "UPDATE price\n",
    "SET is_paid = 1\n",
    "where price_number > 0;"
   ]
  },
  {
   "cell_type": "code",
   "execution_count": 11,
   "metadata": {},
   "outputs": [
    {
     "name": "stdout",
     "output_type": "stream",
     "text": [
      " * postgresql://student@/Group1\n",
      "10 rows affected.\n"
     ]
    },
    {
     "data": {
      "text/html": [
       "<table>\n",
       "    <tr>\n",
       "        <th>key</th>\n",
       "        <th>price_number</th>\n",
       "        <th>is_paid</th>\n",
       "    </tr>\n",
       "    <tr>\n",
       "        <td>1</td>\n",
       "        <td>0.00</td>\n",
       "        <td>0</td>\n",
       "    </tr>\n",
       "    <tr>\n",
       "        <td>2</td>\n",
       "        <td>0.00</td>\n",
       "        <td>0</td>\n",
       "    </tr>\n",
       "    <tr>\n",
       "        <td>3</td>\n",
       "        <td>0.00</td>\n",
       "        <td>0</td>\n",
       "    </tr>\n",
       "    <tr>\n",
       "        <td>4</td>\n",
       "        <td>0.00</td>\n",
       "        <td>0</td>\n",
       "    </tr>\n",
       "    <tr>\n",
       "        <td>5</td>\n",
       "        <td>5.99</td>\n",
       "        <td>1</td>\n",
       "    </tr>\n",
       "    <tr>\n",
       "        <td>6</td>\n",
       "        <td>0.00</td>\n",
       "        <td>0</td>\n",
       "    </tr>\n",
       "    <tr>\n",
       "        <td>7</td>\n",
       "        <td>0.00</td>\n",
       "        <td>0</td>\n",
       "    </tr>\n",
       "    <tr>\n",
       "        <td>8</td>\n",
       "        <td>0.00</td>\n",
       "        <td>0</td>\n",
       "    </tr>\n",
       "    <tr>\n",
       "        <td>9</td>\n",
       "        <td>0.00</td>\n",
       "        <td>0</td>\n",
       "    </tr>\n",
       "    <tr>\n",
       "        <td>10</td>\n",
       "        <td>0.00</td>\n",
       "        <td>0</td>\n",
       "    </tr>\n",
       "</table>"
      ],
      "text/plain": [
       "[(1, Decimal('0.00'), Decimal('0')),\n",
       " (2, Decimal('0.00'), Decimal('0')),\n",
       " (3, Decimal('0.00'), Decimal('0')),\n",
       " (4, Decimal('0.00'), Decimal('0')),\n",
       " (5, Decimal('5.99'), Decimal('1')),\n",
       " (6, Decimal('0.00'), Decimal('0')),\n",
       " (7, Decimal('0.00'), Decimal('0')),\n",
       " (8, Decimal('0.00'), Decimal('0')),\n",
       " (9, Decimal('0.00'), Decimal('0')),\n",
       " (10, Decimal('0.00'), Decimal('0'))]"
      ]
     },
     "execution_count": 11,
     "metadata": {},
     "output_type": "execute_result"
    }
   ],
   "source": [
    "%%sql\n",
    "select * from price \n",
    "order by key\n",
    "limit 10;"
   ]
  },
  {
   "cell_type": "markdown",
   "metadata": {},
   "source": [
    "## Create Size Table"
   ]
  },
  {
   "cell_type": "markdown",
   "metadata": {},
   "source": [
    "Size table is about size information of apps."
   ]
  },
  {
   "cell_type": "code",
   "execution_count": 12,
   "metadata": {},
   "outputs": [
    {
     "name": "stdout",
     "output_type": "stream",
     "text": [
      " * postgresql://student@/Group1\n",
      "Done.\n",
      "Done.\n"
     ]
    },
    {
     "data": {
      "text/plain": [
       "[]"
      ]
     },
     "execution_count": 12,
     "metadata": {},
     "output_type": "execute_result"
    }
   ],
   "source": [
    "%%sql\n",
    "DROP TABLE IF EXISTS size CASCADE;\n",
    "\n",
    "CREATE TABLE size (\n",
    "    key SERIAL PRIMARY KEY,\n",
    "    full_size VARCHAR(10),\n",
    "    size_magnitude VARCHAR(2),\n",
    "    size_number NUMERIC(10,2) DEFAULT 0\n",
    ");"
   ]
  },
  {
   "cell_type": "code",
   "execution_count": 13,
   "metadata": {},
   "outputs": [
    {
     "name": "stdout",
     "output_type": "stream",
     "text": [
      " * postgresql://student@/Group1\n",
      "266994 rows affected.\n"
     ]
    },
    {
     "data": {
      "text/plain": [
       "[]"
      ]
     },
     "execution_count": 13,
     "metadata": {},
     "output_type": "execute_result"
    }
   ],
   "source": [
    "%%sql\n",
    "INSERT INTO size (full_size,size_magnitude,size_number)\n",
    "SELECT full_size,size_magnitude,size_number\n",
    "FROM Google_Playstore;"
   ]
  },
  {
   "cell_type": "code",
   "execution_count": 14,
   "metadata": {},
   "outputs": [
    {
     "name": "stdout",
     "output_type": "stream",
     "text": [
      " * postgresql://student@/Group1\n",
      "10 rows affected.\n"
     ]
    },
    {
     "data": {
      "text/html": [
       "<table>\n",
       "    <tr>\n",
       "        <th>key</th>\n",
       "        <th>full_size</th>\n",
       "        <th>size_magnitude</th>\n",
       "        <th>size_number</th>\n",
       "    </tr>\n",
       "    <tr>\n",
       "        <td>1</td>\n",
       "        <td>0M</td>\n",
       "        <td>M</td>\n",
       "        <td>0.00</td>\n",
       "    </tr>\n",
       "    <tr>\n",
       "        <td>2</td>\n",
       "        <td>0M</td>\n",
       "        <td>M</td>\n",
       "        <td>0.00</td>\n",
       "    </tr>\n",
       "    <tr>\n",
       "        <td>3</td>\n",
       "        <td>1.4M</td>\n",
       "        <td>M</td>\n",
       "        <td>1.40</td>\n",
       "    </tr>\n",
       "    <tr>\n",
       "        <td>4</td>\n",
       "        <td>16M</td>\n",
       "        <td>M</td>\n",
       "        <td>16.00</td>\n",
       "    </tr>\n",
       "    <tr>\n",
       "        <td>5</td>\n",
       "        <td>0M</td>\n",
       "        <td>M</td>\n",
       "        <td>0.00</td>\n",
       "    </tr>\n",
       "    <tr>\n",
       "        <td>6</td>\n",
       "        <td>23M</td>\n",
       "        <td>M</td>\n",
       "        <td>23.00</td>\n",
       "    </tr>\n",
       "    <tr>\n",
       "        <td>7</td>\n",
       "        <td>0M</td>\n",
       "        <td>M</td>\n",
       "        <td>0.00</td>\n",
       "    </tr>\n",
       "    <tr>\n",
       "        <td>8</td>\n",
       "        <td>0M</td>\n",
       "        <td>M</td>\n",
       "        <td>0.00</td>\n",
       "    </tr>\n",
       "    <tr>\n",
       "        <td>9</td>\n",
       "        <td>4.1M</td>\n",
       "        <td>M</td>\n",
       "        <td>4.10</td>\n",
       "    </tr>\n",
       "    <tr>\n",
       "        <td>10</td>\n",
       "        <td>0M</td>\n",
       "        <td>M</td>\n",
       "        <td>0.00</td>\n",
       "    </tr>\n",
       "</table>"
      ],
      "text/plain": [
       "[(1, '0M', 'M', Decimal('0.00')),\n",
       " (2, '0M', 'M', Decimal('0.00')),\n",
       " (3, '1.4M', 'M', Decimal('1.40')),\n",
       " (4, '16M', 'M', Decimal('16.00')),\n",
       " (5, '0M', 'M', Decimal('0.00')),\n",
       " (6, '23M', 'M', Decimal('23.00')),\n",
       " (7, '0M', 'M', Decimal('0.00')),\n",
       " (8, '0M', 'M', Decimal('0.00')),\n",
       " (9, '4.1M', 'M', Decimal('4.10')),\n",
       " (10, '0M', 'M', Decimal('0.00'))]"
      ]
     },
     "execution_count": 14,
     "metadata": {},
     "output_type": "execute_result"
    }
   ],
   "source": [
    "%%sql\n",
    "SELECT * FROM size\n",
    "Limit 10;"
   ]
  },
  {
   "cell_type": "markdown",
   "metadata": {},
   "source": [
    "## Create Evaluation Table"
   ]
  },
  {
   "cell_type": "markdown",
   "metadata": {},
   "source": [
    "We create Evaluation table to document the rating and review of apps. In order to create the last two columns,rating_is_top1percent_by_cate and review_is_top1percent_by_cate, we use seven temporary tables."
   ]
  },
  {
   "cell_type": "markdown",
   "metadata": {},
   "source": [
    "The temp table stores key, category_name, rating_rule, rating_number and review_number. The last two columns, rating_is_top1percent_by_cate and review_is_top1percent_by_cate, are not changed in this table."
   ]
  },
  {
   "cell_type": "code",
   "execution_count": 15,
   "metadata": {},
   "outputs": [
    {
     "name": "stdout",
     "output_type": "stream",
     "text": [
      " * postgresql://student@/Group1\n",
      "Done.\n",
      "Done.\n"
     ]
    },
    {
     "data": {
      "text/plain": [
       "[]"
      ]
     },
     "execution_count": 15,
     "metadata": {},
     "output_type": "execute_result"
    }
   ],
   "source": [
    "%%sql\n",
    "DROP TABLE IF EXISTS temp CASCADE;\n",
    "\n",
    "CREATE TABLE temp(\n",
    "    key SERIAL PRIMARY KEY,\n",
    "    category_name VARCHAR(50),\n",
    "    rating_rule VARCHAR(25),\n",
    "    rating_number NUMERIC(3,2) DEFAULT 0,\n",
    "    review_number NUMERIC(25) DEFAULT 0,\n",
    "    avg_rating_by_cate NUMERIC(3,2) DEFAULT 0,\n",
    "    rating_is_top1percent_by_cate BOOLEAN DEFAULT '0',\n",
    "    review_is_top1percent_by_cate BOOLEAN DEFAULT '0'\n",
    ");"
   ]
  },
  {
   "cell_type": "code",
   "execution_count": 16,
   "metadata": {},
   "outputs": [
    {
     "name": "stdout",
     "output_type": "stream",
     "text": [
      " * postgresql://student@/Group1\n",
      "266994 rows affected.\n"
     ]
    },
    {
     "data": {
      "text/plain": [
       "[]"
      ]
     },
     "execution_count": 16,
     "metadata": {},
     "output_type": "execute_result"
    }
   ],
   "source": [
    "%%sql\n",
    "INSERT INTO temp (category_name, rating_number,rating_rule,review_number)\n",
    "SELECT cate_name, rating, content_rating,review\n",
    "FROM Google_Playstore\n",
    ";"
   ]
  },
  {
   "cell_type": "markdown",
   "metadata": {},
   "source": [
    "Temp1 table stores the column avg_rating_by_cate"
   ]
  },
  {
   "cell_type": "code",
   "execution_count": 17,
   "metadata": {},
   "outputs": [
    {
     "name": "stdout",
     "output_type": "stream",
     "text": [
      " * postgresql://student@/Group1\n",
      "Done.\n",
      "266994 rows affected.\n"
     ]
    },
    {
     "data": {
      "text/plain": [
       "[]"
      ]
     },
     "execution_count": 17,
     "metadata": {},
     "output_type": "execute_result"
    }
   ],
   "source": [
    "%%sql\n",
    "DROP TABLE IF EXISTS temp1;\n",
    "\n",
    "CREATE TABLE temp1 AS\n",
    "SELECT key AS key1, AVG(rating_number) OVER(PARTITION BY category_name) AS avg_rating_by_cate1\n",
    "FROM temp;"
   ]
  },
  {
   "cell_type": "code",
   "execution_count": 18,
   "metadata": {},
   "outputs": [
    {
     "name": "stdout",
     "output_type": "stream",
     "text": [
      " * postgresql://student@/Group1\n",
      "5 rows affected.\n"
     ]
    },
    {
     "data": {
      "text/html": [
       "<table>\n",
       "    <tr>\n",
       "        <th>key1</th>\n",
       "        <th>avg_rating_by_cate1</th>\n",
       "    </tr>\n",
       "    <tr>\n",
       "        <td>308</td>\n",
       "        <td>4.2292093287827076</td>\n",
       "    </tr>\n",
       "    <tr>\n",
       "        <td>257177</td>\n",
       "        <td>4.2292093287827076</td>\n",
       "    </tr>\n",
       "    <tr>\n",
       "        <td>708</td>\n",
       "        <td>4.2292093287827076</td>\n",
       "    </tr>\n",
       "    <tr>\n",
       "        <td>257576</td>\n",
       "        <td>4.2292093287827076</td>\n",
       "    </tr>\n",
       "    <tr>\n",
       "        <td>2552</td>\n",
       "        <td>4.2292093287827076</td>\n",
       "    </tr>\n",
       "</table>"
      ],
      "text/plain": [
       "[(308, Decimal('4.2292093287827076')),\n",
       " (257177, Decimal('4.2292093287827076')),\n",
       " (708, Decimal('4.2292093287827076')),\n",
       " (257576, Decimal('4.2292093287827076')),\n",
       " (2552, Decimal('4.2292093287827076'))]"
      ]
     },
     "execution_count": 18,
     "metadata": {},
     "output_type": "execute_result"
    }
   ],
   "source": [
    "%%sql\n",
    "SELECT * \n",
    "FROM temp1\n",
    "LIMIT 5;"
   ]
  },
  {
   "cell_type": "markdown",
   "metadata": {},
   "source": [
    "Temp2 table stores changes in column rating_is_top1percent_by_cate."
   ]
  },
  {
   "cell_type": "code",
   "execution_count": 19,
   "metadata": {},
   "outputs": [
    {
     "name": "stdout",
     "output_type": "stream",
     "text": [
      " * postgresql://student@/Group1\n",
      "Done.\n",
      "2780 rows affected.\n"
     ]
    },
    {
     "data": {
      "text/plain": [
       "[]"
      ]
     },
     "execution_count": 19,
     "metadata": {},
     "output_type": "execute_result"
    }
   ],
   "source": [
    "%%sql\n",
    "DROP TABLE IF EXISTS temp2;\n",
    "\n",
    "CREATE TABLE temp2 AS\n",
    "select key AS key2\n",
    "from (\n",
    "  select key, category_name, rating_rule, rating_number, review_number,\n",
    "         count(*) OVER (partition by category_name) as count,\n",
    "         ROW_NUMBER() OVER (partition by category_name) as row_num\n",
    "  from temp\n",
    ") d\n",
    "where cast(cast(row_num as float)/cast(count as float) as decimal(10,3))  <= 0.01;"
   ]
  },
  {
   "cell_type": "code",
   "execution_count": 20,
   "metadata": {},
   "outputs": [
    {
     "name": "stdout",
     "output_type": "stream",
     "text": [
      " * postgresql://student@/Group1\n",
      "Done.\n"
     ]
    },
    {
     "data": {
      "text/plain": [
       "[]"
      ]
     },
     "execution_count": 20,
     "metadata": {},
     "output_type": "execute_result"
    }
   ],
   "source": [
    "%%sql\n",
    "ALTER TABLE temp2\n",
    "ADD COLUMN rating_is_top1percent_by_cate1 BOOLEAN DEFAULT '1';"
   ]
  },
  {
   "cell_type": "code",
   "execution_count": 21,
   "metadata": {},
   "outputs": [
    {
     "name": "stdout",
     "output_type": "stream",
     "text": [
      " * postgresql://student@/Group1\n",
      "5 rows affected.\n"
     ]
    },
    {
     "data": {
      "text/html": [
       "<table>\n",
       "    <tr>\n",
       "        <th>key2</th>\n",
       "        <th>rating_is_top1percent_by_cate1</th>\n",
       "    </tr>\n",
       "    <tr>\n",
       "        <td>308</td>\n",
       "        <td>True</td>\n",
       "    </tr>\n",
       "    <tr>\n",
       "        <td>244750</td>\n",
       "        <td>True</td>\n",
       "    </tr>\n",
       "    <tr>\n",
       "        <td>708</td>\n",
       "        <td>True</td>\n",
       "    </tr>\n",
       "    <tr>\n",
       "        <td>259293</td>\n",
       "        <td>True</td>\n",
       "    </tr>\n",
       "    <tr>\n",
       "        <td>2552</td>\n",
       "        <td>True</td>\n",
       "    </tr>\n",
       "</table>"
      ],
      "text/plain": [
       "[(308, True), (244750, True), (708, True), (259293, True), (2552, True)]"
      ]
     },
     "execution_count": 21,
     "metadata": {},
     "output_type": "execute_result"
    }
   ],
   "source": [
    "%%sql\n",
    "select * from temp2\n",
    "limit 5;"
   ]
  },
  {
   "cell_type": "markdown",
   "metadata": {},
   "source": [
    "Similarly, temp3 table stores changes in column review_is_top1percent_by_cate."
   ]
  },
  {
   "cell_type": "code",
   "execution_count": 22,
   "metadata": {},
   "outputs": [
    {
     "name": "stdout",
     "output_type": "stream",
     "text": [
      " * postgresql://student@/Group1\n",
      "Done.\n",
      "2780 rows affected.\n"
     ]
    },
    {
     "data": {
      "text/plain": [
       "[]"
      ]
     },
     "execution_count": 22,
     "metadata": {},
     "output_type": "execute_result"
    }
   ],
   "source": [
    "%%sql\n",
    "DROP TABLE IF EXISTS temp3;\n",
    "\n",
    "CREATE TABLE temp3 AS\n",
    "select key AS key3\n",
    "from (\n",
    "  select key, category_name, rating_rule, rating_number, review_number,\n",
    "         count(*) OVER (partition by category_name) as count,\n",
    "         ROW_NUMBER() OVER (partition by category_name) as row_num\n",
    "  from temp\n",
    ") d\n",
    "where cast(cast(row_num as float)/cast(count as float) as decimal(10,3))  <= 0.01;"
   ]
  },
  {
   "cell_type": "code",
   "execution_count": 23,
   "metadata": {},
   "outputs": [
    {
     "name": "stdout",
     "output_type": "stream",
     "text": [
      " * postgresql://student@/Group1\n",
      "Done.\n"
     ]
    },
    {
     "data": {
      "text/plain": [
       "[]"
      ]
     },
     "execution_count": 23,
     "metadata": {},
     "output_type": "execute_result"
    }
   ],
   "source": [
    "%%sql\n",
    "ALTER TABLE temp3\n",
    "ADD COLUMN review_is_top1percent_by_cate1 BOOLEAN DEFAULT '1';"
   ]
  },
  {
   "cell_type": "code",
   "execution_count": 24,
   "metadata": {},
   "outputs": [
    {
     "name": "stdout",
     "output_type": "stream",
     "text": [
      " * postgresql://student@/Group1\n",
      "5 rows affected.\n"
     ]
    },
    {
     "data": {
      "text/html": [
       "<table>\n",
       "    <tr>\n",
       "        <th>key3</th>\n",
       "        <th>review_is_top1percent_by_cate1</th>\n",
       "    </tr>\n",
       "    <tr>\n",
       "        <td>308</td>\n",
       "        <td>True</td>\n",
       "    </tr>\n",
       "    <tr>\n",
       "        <td>244750</td>\n",
       "        <td>True</td>\n",
       "    </tr>\n",
       "    <tr>\n",
       "        <td>708</td>\n",
       "        <td>True</td>\n",
       "    </tr>\n",
       "    <tr>\n",
       "        <td>259293</td>\n",
       "        <td>True</td>\n",
       "    </tr>\n",
       "    <tr>\n",
       "        <td>2552</td>\n",
       "        <td>True</td>\n",
       "    </tr>\n",
       "</table>"
      ],
      "text/plain": [
       "[(308, True), (244750, True), (708, True), (259293, True), (2552, True)]"
      ]
     },
     "execution_count": 24,
     "metadata": {},
     "output_type": "execute_result"
    }
   ],
   "source": [
    "%%sql\n",
    "select * from temp3\n",
    "limit 5;"
   ]
  },
  {
   "cell_type": "markdown",
   "metadata": {},
   "source": [
    "Temp4 table stores the join table of temp and temp. We use it to update column rating_is_top1percent_by_cate in the final Evaluation table."
   ]
  },
  {
   "cell_type": "code",
   "execution_count": 25,
   "metadata": {},
   "outputs": [
    {
     "name": "stdout",
     "output_type": "stream",
     "text": [
      " * postgresql://student@/Group1\n",
      "Done.\n",
      "266994 rows affected.\n"
     ]
    },
    {
     "data": {
      "text/plain": [
       "[]"
      ]
     },
     "execution_count": 25,
     "metadata": {},
     "output_type": "execute_result"
    }
   ],
   "source": [
    "%%sql\n",
    "DROP TABLE IF EXISTS temp4;\n",
    "\n",
    "CREATE TABLE temp4 AS\n",
    "SELECT *\n",
    "FROM temp\n",
    "LEFT JOIN temp2\n",
    "ON temp.key = temp2.key2;"
   ]
  },
  {
   "cell_type": "markdown",
   "metadata": {},
   "source": [
    "Temp5 table stores the join table of temp4 and temp3. We use it to update column review_is_top1percent_by_cate in the final Evaluation table."
   ]
  },
  {
   "cell_type": "code",
   "execution_count": 26,
   "metadata": {},
   "outputs": [
    {
     "name": "stdout",
     "output_type": "stream",
     "text": [
      " * postgresql://student@/Group1\n",
      "Done.\n",
      "266994 rows affected.\n"
     ]
    },
    {
     "data": {
      "text/plain": [
       "[]"
      ]
     },
     "execution_count": 26,
     "metadata": {},
     "output_type": "execute_result"
    }
   ],
   "source": [
    "%%sql\n",
    "DROP TABLE IF EXISTS temp5;\n",
    "\n",
    "CREATE TABLE temp5 AS\n",
    "SELECT *\n",
    "FROM temp4\n",
    "LEFT JOIN temp3\n",
    "ON temp4.key = temp3.key3;"
   ]
  },
  {
   "cell_type": "markdown",
   "metadata": {},
   "source": [
    "Temp6 table stores the join table of temp5 and temp1. We use it to update column avg_rating_by_cate in the final Evaluation table."
   ]
  },
  {
   "cell_type": "code",
   "execution_count": 27,
   "metadata": {},
   "outputs": [
    {
     "name": "stdout",
     "output_type": "stream",
     "text": [
      " * postgresql://student@/Group1\n",
      "Done.\n",
      "266994 rows affected.\n"
     ]
    },
    {
     "data": {
      "text/plain": [
       "[]"
      ]
     },
     "execution_count": 27,
     "metadata": {},
     "output_type": "execute_result"
    }
   ],
   "source": [
    "%%sql\n",
    "DROP TABLE IF EXISTS temp6;\n",
    "\n",
    "CREATE TABLE temp6 AS\n",
    "SELECT *\n",
    "FROM temp5\n",
    "LEFT JOIN temp1\n",
    "ON temp5.key = temp1.key1;"
   ]
  },
  {
   "cell_type": "code",
   "execution_count": 28,
   "metadata": {},
   "outputs": [
    {
     "name": "stdout",
     "output_type": "stream",
     "text": [
      " * postgresql://student@/Group1\n",
      "10 rows affected.\n"
     ]
    },
    {
     "data": {
      "text/html": [
       "<table>\n",
       "    <tr>\n",
       "        <th>key</th>\n",
       "        <th>category_name</th>\n",
       "        <th>rating_rule</th>\n",
       "        <th>rating_number</th>\n",
       "        <th>review_number</th>\n",
       "        <th>avg_rating_by_cate</th>\n",
       "        <th>rating_is_top1percent_by_cate</th>\n",
       "        <th>review_is_top1percent_by_cate</th>\n",
       "        <th>key2</th>\n",
       "        <th>rating_is_top1percent_by_cate1</th>\n",
       "        <th>key3</th>\n",
       "        <th>review_is_top1percent_by_cate1</th>\n",
       "        <th>key1</th>\n",
       "        <th>avg_rating_by_cate1</th>\n",
       "    </tr>\n",
       "    <tr>\n",
       "        <td>7</td>\n",
       "        <td>TRAVEL_AND_LOCAL</td>\n",
       "        <td>Teen</td>\n",
       "        <td>4.27</td>\n",
       "        <td>421918</td>\n",
       "        <td>0.00</td>\n",
       "        <td>False</td>\n",
       "        <td>False</td>\n",
       "        <td>None</td>\n",
       "        <td>None</td>\n",
       "        <td>None</td>\n",
       "        <td>None</td>\n",
       "        <td>7</td>\n",
       "        <td>4.1300331026181162</td>\n",
       "    </tr>\n",
       "    <tr>\n",
       "        <td>13</td>\n",
       "        <td>LIFESTYLE</td>\n",
       "        <td>Everyone</td>\n",
       "        <td>3.21</td>\n",
       "        <td>754</td>\n",
       "        <td>0.00</td>\n",
       "        <td>False</td>\n",
       "        <td>False</td>\n",
       "        <td>None</td>\n",
       "        <td>None</td>\n",
       "        <td>None</td>\n",
       "        <td>None</td>\n",
       "        <td>13</td>\n",
       "        <td>4.2964418279784474</td>\n",
       "    </tr>\n",
       "    <tr>\n",
       "        <td>18</td>\n",
       "        <td>FOOD_AND_DRINK</td>\n",
       "        <td>Everyone</td>\n",
       "        <td>4.61</td>\n",
       "        <td>24291</td>\n",
       "        <td>0.00</td>\n",
       "        <td>False</td>\n",
       "        <td>False</td>\n",
       "        <td>None</td>\n",
       "        <td>None</td>\n",
       "        <td>None</td>\n",
       "        <td>None</td>\n",
       "        <td>18</td>\n",
       "        <td>4.3156971608832808</td>\n",
       "    </tr>\n",
       "    <tr>\n",
       "        <td>31</td>\n",
       "        <td>FOOD_AND_DRINK</td>\n",
       "        <td>Everyone</td>\n",
       "        <td>3.63</td>\n",
       "        <td>262042</td>\n",
       "        <td>0.00</td>\n",
       "        <td>False</td>\n",
       "        <td>False</td>\n",
       "        <td>None</td>\n",
       "        <td>None</td>\n",
       "        <td>None</td>\n",
       "        <td>None</td>\n",
       "        <td>31</td>\n",
       "        <td>4.3156971608832808</td>\n",
       "    </tr>\n",
       "    <tr>\n",
       "        <td>39</td>\n",
       "        <td>FOOD_AND_DRINK</td>\n",
       "        <td>Teen</td>\n",
       "        <td>4.07</td>\n",
       "        <td>485460</td>\n",
       "        <td>0.00</td>\n",
       "        <td>False</td>\n",
       "        <td>False</td>\n",
       "        <td>None</td>\n",
       "        <td>None</td>\n",
       "        <td>None</td>\n",
       "        <td>None</td>\n",
       "        <td>39</td>\n",
       "        <td>4.3156971608832808</td>\n",
       "    </tr>\n",
       "    <tr>\n",
       "        <td>55</td>\n",
       "        <td>GAME_ADVENTURE</td>\n",
       "        <td>Everyone 10+</td>\n",
       "        <td>3.84</td>\n",
       "        <td>3918</td>\n",
       "        <td>0.00</td>\n",
       "        <td>False</td>\n",
       "        <td>False</td>\n",
       "        <td>None</td>\n",
       "        <td>None</td>\n",
       "        <td>None</td>\n",
       "        <td>None</td>\n",
       "        <td>55</td>\n",
       "        <td>4.3261516587677725</td>\n",
       "    </tr>\n",
       "    <tr>\n",
       "        <td>73</td>\n",
       "        <td>GAME_PUZZLE</td>\n",
       "        <td>Everyone</td>\n",
       "        <td>4.39</td>\n",
       "        <td>10575</td>\n",
       "        <td>0.00</td>\n",
       "        <td>False</td>\n",
       "        <td>False</td>\n",
       "        <td>None</td>\n",
       "        <td>None</td>\n",
       "        <td>None</td>\n",
       "        <td>None</td>\n",
       "        <td>73</td>\n",
       "        <td>4.3596767955801105</td>\n",
       "    </tr>\n",
       "    <tr>\n",
       "        <td>79</td>\n",
       "        <td>GAME_ROLE_PLAYING</td>\n",
       "        <td>Mature 17+</td>\n",
       "        <td>4.19</td>\n",
       "        <td>1715</td>\n",
       "        <td>0.00</td>\n",
       "        <td>False</td>\n",
       "        <td>False</td>\n",
       "        <td>None</td>\n",
       "        <td>None</td>\n",
       "        <td>None</td>\n",
       "        <td>None</td>\n",
       "        <td>79</td>\n",
       "        <td>4.3315845410628019</td>\n",
       "    </tr>\n",
       "    <tr>\n",
       "        <td>95</td>\n",
       "        <td>GAME_CASUAL</td>\n",
       "        <td>Everyone</td>\n",
       "        <td>4.54</td>\n",
       "        <td>6999</td>\n",
       "        <td>0.00</td>\n",
       "        <td>False</td>\n",
       "        <td>False</td>\n",
       "        <td>None</td>\n",
       "        <td>None</td>\n",
       "        <td>None</td>\n",
       "        <td>None</td>\n",
       "        <td>95</td>\n",
       "        <td>4.2455770816158285</td>\n",
       "    </tr>\n",
       "    <tr>\n",
       "        <td>108</td>\n",
       "        <td>FINANCE</td>\n",
       "        <td>Everyone</td>\n",
       "        <td>4.52</td>\n",
       "        <td>50960</td>\n",
       "        <td>0.00</td>\n",
       "        <td>False</td>\n",
       "        <td>False</td>\n",
       "        <td>None</td>\n",
       "        <td>None</td>\n",
       "        <td>None</td>\n",
       "        <td>None</td>\n",
       "        <td>108</td>\n",
       "        <td>4.0418617021276596</td>\n",
       "    </tr>\n",
       "</table>"
      ],
      "text/plain": [
       "[(7, 'TRAVEL_AND_LOCAL', 'Teen', Decimal('4.27'), Decimal('421918'), Decimal('0.00'), False, False, None, None, None, None, 7, Decimal('4.1300331026181162')),\n",
       " (13, 'LIFESTYLE', 'Everyone', Decimal('3.21'), Decimal('754'), Decimal('0.00'), False, False, None, None, None, None, 13, Decimal('4.2964418279784474')),\n",
       " (18, 'FOOD_AND_DRINK', 'Everyone', Decimal('4.61'), Decimal('24291'), Decimal('0.00'), False, False, None, None, None, None, 18, Decimal('4.3156971608832808')),\n",
       " (31, 'FOOD_AND_DRINK', 'Everyone', Decimal('3.63'), Decimal('262042'), Decimal('0.00'), False, False, None, None, None, None, 31, Decimal('4.3156971608832808')),\n",
       " (39, 'FOOD_AND_DRINK', 'Teen', Decimal('4.07'), Decimal('485460'), Decimal('0.00'), False, False, None, None, None, None, 39, Decimal('4.3156971608832808')),\n",
       " (55, 'GAME_ADVENTURE', 'Everyone 10+', Decimal('3.84'), Decimal('3918'), Decimal('0.00'), False, False, None, None, None, None, 55, Decimal('4.3261516587677725')),\n",
       " (73, 'GAME_PUZZLE', 'Everyone', Decimal('4.39'), Decimal('10575'), Decimal('0.00'), False, False, None, None, None, None, 73, Decimal('4.3596767955801105')),\n",
       " (79, 'GAME_ROLE_PLAYING', 'Mature 17+', Decimal('4.19'), Decimal('1715'), Decimal('0.00'), False, False, None, None, None, None, 79, Decimal('4.3315845410628019')),\n",
       " (95, 'GAME_CASUAL', 'Everyone', Decimal('4.54'), Decimal('6999'), Decimal('0.00'), False, False, None, None, None, None, 95, Decimal('4.2455770816158285')),\n",
       " (108, 'FINANCE', 'Everyone', Decimal('4.52'), Decimal('50960'), Decimal('0.00'), False, False, None, None, None, None, 108, Decimal('4.0418617021276596'))]"
      ]
     },
     "execution_count": 28,
     "metadata": {},
     "output_type": "execute_result"
    }
   ],
   "source": [
    "%%sql\n",
    "select * from temp6 limit 10"
   ]
  },
  {
   "cell_type": "code",
   "execution_count": 29,
   "metadata": {},
   "outputs": [
    {
     "name": "stdout",
     "output_type": "stream",
     "text": [
      " * postgresql://student@/Group1\n",
      "2780 rows affected.\n"
     ]
    },
    {
     "data": {
      "text/plain": [
       "[]"
      ]
     },
     "execution_count": 29,
     "metadata": {},
     "output_type": "execute_result"
    }
   ],
   "source": [
    "%%sql\n",
    "UPDATE temp6\n",
    "SET rating_is_top1percent_by_cate = '1'\n",
    "where rating_is_top1percent_by_cate1 = '1';"
   ]
  },
  {
   "cell_type": "code",
   "execution_count": 30,
   "metadata": {},
   "outputs": [
    {
     "name": "stdout",
     "output_type": "stream",
     "text": [
      " * postgresql://student@/Group1\n",
      "2780 rows affected.\n"
     ]
    },
    {
     "data": {
      "text/plain": [
       "[]"
      ]
     },
     "execution_count": 30,
     "metadata": {},
     "output_type": "execute_result"
    }
   ],
   "source": [
    "%%sql\n",
    "UPDATE temp6\n",
    "SET review_is_top1percent_by_cate = '1'\n",
    "where review_is_top1percent_by_cate1 = '1';\n"
   ]
  },
  {
   "cell_type": "code",
   "execution_count": 31,
   "metadata": {},
   "outputs": [
    {
     "name": "stdout",
     "output_type": "stream",
     "text": [
      " * postgresql://student@/Group1\n",
      "266994 rows affected.\n"
     ]
    },
    {
     "data": {
      "text/plain": [
       "[]"
      ]
     },
     "execution_count": 31,
     "metadata": {},
     "output_type": "execute_result"
    }
   ],
   "source": [
    "%%sql\n",
    "UPDATE temp6\n",
    "SET avg_rating_by_cate = avg_rating_by_cate1;"
   ]
  },
  {
   "cell_type": "code",
   "execution_count": 32,
   "metadata": {},
   "outputs": [
    {
     "name": "stdout",
     "output_type": "stream",
     "text": [
      " * postgresql://student@/Group1\n",
      "Done.\n",
      "266994 rows affected.\n"
     ]
    },
    {
     "data": {
      "text/plain": [
       "[]"
      ]
     },
     "execution_count": 32,
     "metadata": {},
     "output_type": "execute_result"
    }
   ],
   "source": [
    "%%sql\n",
    "DROP TABLE IF EXISTS evaluation CASCADE;\n",
    "\n",
    "CREATE TABLE evaluation AS\n",
    "SELECT key, rating_rule, rating_number, review_number, avg_rating_by_cate, rating_is_top1percent_by_cate, review_is_top1percent_by_cate\n",
    "FROM temp6\n",
    "order by key;"
   ]
  },
  {
   "cell_type": "code",
   "execution_count": 33,
   "metadata": {},
   "outputs": [
    {
     "name": "stdout",
     "output_type": "stream",
     "text": [
      " * postgresql://student@/Group1\n",
      "10 rows affected.\n"
     ]
    },
    {
     "data": {
      "text/html": [
       "<table>\n",
       "    <tr>\n",
       "        <th>key</th>\n",
       "        <th>rating_rule</th>\n",
       "        <th>rating_number</th>\n",
       "        <th>review_number</th>\n",
       "        <th>avg_rating_by_cate</th>\n",
       "        <th>rating_is_top1percent_by_cate</th>\n",
       "        <th>review_is_top1percent_by_cate</th>\n",
       "    </tr>\n",
       "    <tr>\n",
       "        <td>1</td>\n",
       "        <td>Everyone</td>\n",
       "        <td>4.55</td>\n",
       "        <td>305034</td>\n",
       "        <td>4.32</td>\n",
       "        <td>False</td>\n",
       "        <td>False</td>\n",
       "    </tr>\n",
       "    <tr>\n",
       "        <td>2</td>\n",
       "        <td>Everyone</td>\n",
       "        <td>4.40</td>\n",
       "        <td>1207922</td>\n",
       "        <td>4.13</td>\n",
       "        <td>False</td>\n",
       "        <td>False</td>\n",
       "    </tr>\n",
       "    <tr>\n",
       "        <td>3</td>\n",
       "        <td>Everyone</td>\n",
       "        <td>3.66</td>\n",
       "        <td>1967</td>\n",
       "        <td>4.20</td>\n",
       "        <td>False</td>\n",
       "        <td>False</td>\n",
       "    </tr>\n",
       "    <tr>\n",
       "        <td>4</td>\n",
       "        <td>Everyone</td>\n",
       "        <td>4.11</td>\n",
       "        <td>389154</td>\n",
       "        <td>4.32</td>\n",
       "        <td>False</td>\n",
       "        <td>False</td>\n",
       "    </tr>\n",
       "    <tr>\n",
       "        <td>5</td>\n",
       "        <td>Everyone</td>\n",
       "        <td>4.65</td>\n",
       "        <td>2291</td>\n",
       "        <td>4.32</td>\n",
       "        <td>False</td>\n",
       "        <td>False</td>\n",
       "    </tr>\n",
       "    <tr>\n",
       "        <td>6</td>\n",
       "        <td>Everyone</td>\n",
       "        <td>3.83</td>\n",
       "        <td>2559</td>\n",
       "        <td>4.32</td>\n",
       "        <td>False</td>\n",
       "        <td>False</td>\n",
       "    </tr>\n",
       "    <tr>\n",
       "        <td>7</td>\n",
       "        <td>Teen</td>\n",
       "        <td>4.27</td>\n",
       "        <td>421918</td>\n",
       "        <td>4.13</td>\n",
       "        <td>False</td>\n",
       "        <td>False</td>\n",
       "    </tr>\n",
       "    <tr>\n",
       "        <td>8</td>\n",
       "        <td>Everyone</td>\n",
       "        <td>4.50</td>\n",
       "        <td>142618</td>\n",
       "        <td>4.32</td>\n",
       "        <td>False</td>\n",
       "        <td>False</td>\n",
       "    </tr>\n",
       "    <tr>\n",
       "        <td>9</td>\n",
       "        <td>Everyone</td>\n",
       "        <td>3.81</td>\n",
       "        <td>85</td>\n",
       "        <td>4.13</td>\n",
       "        <td>False</td>\n",
       "        <td>False</td>\n",
       "    </tr>\n",
       "    <tr>\n",
       "        <td>10</td>\n",
       "        <td>Everyone</td>\n",
       "        <td>4.55</td>\n",
       "        <td>67514</td>\n",
       "        <td>4.32</td>\n",
       "        <td>False</td>\n",
       "        <td>False</td>\n",
       "    </tr>\n",
       "</table>"
      ],
      "text/plain": [
       "[(1, 'Everyone', Decimal('4.55'), Decimal('305034'), Decimal('4.32'), False, False),\n",
       " (2, 'Everyone', Decimal('4.40'), Decimal('1207922'), Decimal('4.13'), False, False),\n",
       " (3, 'Everyone', Decimal('3.66'), Decimal('1967'), Decimal('4.20'), False, False),\n",
       " (4, 'Everyone', Decimal('4.11'), Decimal('389154'), Decimal('4.32'), False, False),\n",
       " (5, 'Everyone', Decimal('4.65'), Decimal('2291'), Decimal('4.32'), False, False),\n",
       " (6, 'Everyone', Decimal('3.83'), Decimal('2559'), Decimal('4.32'), False, False),\n",
       " (7, 'Teen', Decimal('4.27'), Decimal('421918'), Decimal('4.13'), False, False),\n",
       " (8, 'Everyone', Decimal('4.50'), Decimal('142618'), Decimal('4.32'), False, False),\n",
       " (9, 'Everyone', Decimal('3.81'), Decimal('85'), Decimal('4.13'), False, False),\n",
       " (10, 'Everyone', Decimal('4.55'), Decimal('67514'), Decimal('4.32'), False, False)]"
      ]
     },
     "execution_count": 33,
     "metadata": {},
     "output_type": "execute_result"
    }
   ],
   "source": [
    "%%sql\n",
    "select * from evaluation limit 10"
   ]
  },
  {
   "cell_type": "code",
   "execution_count": 34,
   "metadata": {},
   "outputs": [
    {
     "name": "stdout",
     "output_type": "stream",
     "text": [
      " * postgresql://student@/Group1\n",
      "Done.\n",
      "Done.\n",
      "Done.\n",
      "Done.\n",
      "Done.\n",
      "Done.\n",
      "Done.\n"
     ]
    },
    {
     "data": {
      "text/plain": [
       "[]"
      ]
     },
     "execution_count": 34,
     "metadata": {},
     "output_type": "execute_result"
    }
   ],
   "source": [
    "%%sql\n",
    "DROP TABLE IF EXISTS temp;\n",
    "DROP TABLE IF EXISTS temp1;\n",
    "DROP TABLE IF EXISTS temp2;\n",
    "DROP TABLE IF EXISTS temp3;\n",
    "DROP TABLE IF EXISTS temp4;\n",
    "DROP TABLE IF EXISTS temp5;\n",
    "DROP TABLE IF EXISTS temp6;"
   ]
  },
  {
   "cell_type": "markdown",
   "metadata": {},
   "source": [
    "## Create Day Table"
   ]
  },
  {
   "cell_type": "markdown",
   "metadata": {},
   "source": [
    "Day table stores the date of last update information of apps."
   ]
  },
  {
   "cell_type": "code",
   "execution_count": 35,
   "metadata": {},
   "outputs": [
    {
     "name": "stdout",
     "output_type": "stream",
     "text": [
      " * postgresql://student@/Group1\n",
      "Done.\n",
      "Done.\n"
     ]
    },
    {
     "data": {
      "text/plain": [
       "[]"
      ]
     },
     "execution_count": 35,
     "metadata": {},
     "output_type": "execute_result"
    }
   ],
   "source": [
    "%%sql\n",
    "DROP TABLE IF EXISTS day CASCADE;\n",
    "\n",
    "CREATE TABLE day (\n",
    "    key SERIAL PRIMARY KEY,\n",
    "    full_date VARCHAR(11),\n",
    "    last_update_day VARCHAR(3),\n",
    "    last_update_month VARCHAR(4),\n",
    "    last_update_quarter NUMERIC(1,0),\n",
    "    last_update_year VARCHAR(4)\n",
    ");"
   ]
  },
  {
   "cell_type": "code",
   "execution_count": 36,
   "metadata": {},
   "outputs": [
    {
     "name": "stdout",
     "output_type": "stream",
     "text": [
      " * postgresql://student@/Group1\n",
      "266994 rows affected.\n"
     ]
    },
    {
     "data": {
      "text/plain": [
       "[]"
      ]
     },
     "execution_count": 36,
     "metadata": {},
     "output_type": "execute_result"
    }
   ],
   "source": [
    "%%sql\n",
    "INSERT INTO day (full_date,last_update_day,last_update_month,last_update_year)\n",
    "SELECT full_date,last_update_day,last_update_month,last_update_year\n",
    "FROM Google_Playstore;"
   ]
  },
  {
   "cell_type": "markdown",
   "metadata": {},
   "source": [
    "Setting column last_update_quarter."
   ]
  },
  {
   "cell_type": "code",
   "execution_count": 37,
   "metadata": {},
   "outputs": [
    {
     "name": "stdout",
     "output_type": "stream",
     "text": [
      " * postgresql://student@/Group1\n",
      "266994 rows affected.\n"
     ]
    },
    {
     "data": {
      "text/plain": [
       "[]"
      ]
     },
     "execution_count": 37,
     "metadata": {},
     "output_type": "execute_result"
    }
   ],
   "source": [
    "%%sql\n",
    "UPDATE day\n",
    "SET last_update_quarter = (CASE \n",
    "WHEN last_update_month IN ('Jan','Feb','Mar') THEN 1\n",
    "WHEN last_update_month IN ('Apr','May','Jun') THEN 2\n",
    "WHEN last_update_month IN ('Jul','Aug','Sep') THEN 3\n",
    "WHEN last_update_month IN ('Oct','Nov','Dec') THEN 4\n",
    "END);"
   ]
  },
  {
   "cell_type": "markdown",
   "metadata": {},
   "source": [
    "## Create Install Table"
   ]
  },
  {
   "cell_type": "markdown",
   "metadata": {},
   "source": [
    "Install tables stores the information about install numbers and whether a certain app is in top 1 percnet in its category. We create three temporary tables in order to create the column is_top1percent_by_cate. It is the same strategy as the one we use to create Evaluation table."
   ]
  },
  {
   "cell_type": "markdown",
   "metadata": {},
   "source": [
    "First we create a temporary table to help create the Install table."
   ]
  },
  {
   "cell_type": "code",
   "execution_count": 38,
   "metadata": {},
   "outputs": [
    {
     "name": "stdout",
     "output_type": "stream",
     "text": [
      " * postgresql://student@/Group1\n",
      "Done.\n",
      "Done.\n"
     ]
    },
    {
     "data": {
      "text/plain": [
       "[]"
      ]
     },
     "execution_count": 38,
     "metadata": {},
     "output_type": "execute_result"
    }
   ],
   "source": [
    "%%sql\n",
    "DROP TABLE IF EXISTS temp;\n",
    "\n",
    "CREATE TABLE temp (\n",
    "    key SERIAL PRIMARY KEY,\n",
    "    category_name VARCHAR(50),\n",
    "    install_number NUMERIC(25),\n",
    "    is_top1percent_by_cate BOOLEAN DEFAULT '0'\n",
    ");"
   ]
  },
  {
   "cell_type": "code",
   "execution_count": 39,
   "metadata": {},
   "outputs": [
    {
     "name": "stdout",
     "output_type": "stream",
     "text": [
      " * postgresql://student@/Group1\n",
      "266994 rows affected.\n"
     ]
    },
    {
     "data": {
      "text/plain": [
       "[]"
      ]
     },
     "execution_count": 39,
     "metadata": {},
     "output_type": "execute_result"
    }
   ],
   "source": [
    "%%sql\n",
    "INSERT INTO temp (category_name, install_number)\n",
    "SELECT cate_name, install\n",
    "FROM Google_Playstore;"
   ]
  },
  {
   "cell_type": "code",
   "execution_count": 40,
   "metadata": {},
   "outputs": [
    {
     "name": "stdout",
     "output_type": "stream",
     "text": [
      " * postgresql://student@/Group1\n",
      "Done.\n",
      "2780 rows affected.\n"
     ]
    },
    {
     "data": {
      "text/plain": [
       "[]"
      ]
     },
     "execution_count": 40,
     "metadata": {},
     "output_type": "execute_result"
    }
   ],
   "source": [
    "%%sql\n",
    "DROP TABLE IF EXISTS temp1;\n",
    "\n",
    "CREATE TABLE temp1 AS\n",
    "select key AS key1, category_name AS category_name1, install_number AS install_number1\n",
    "from (\n",
    "  select key, category_name, install_number,\n",
    "         count(*) OVER (partition by category_name) as count,\n",
    "         ROW_NUMBER() OVER (partition by category_name ORDER BY install_number DESC) as row_num\n",
    "  from temp\n",
    ") d\n",
    "where cast(cast(row_num as float)/cast(count as float) as decimal(10,3))  <= 0.01;"
   ]
  },
  {
   "cell_type": "code",
   "execution_count": 41,
   "metadata": {},
   "outputs": [
    {
     "name": "stdout",
     "output_type": "stream",
     "text": [
      " * postgresql://student@/Group1\n",
      "Done.\n"
     ]
    },
    {
     "data": {
      "text/plain": [
       "[]"
      ]
     },
     "execution_count": 41,
     "metadata": {},
     "output_type": "execute_result"
    }
   ],
   "source": [
    "%%sql\n",
    "ALTER TABLE temp1\n",
    "ADD COLUMN is_top1percent_by_cate1 BOOLEAN DEFAULT '1';"
   ]
  },
  {
   "cell_type": "code",
   "execution_count": 42,
   "metadata": {},
   "outputs": [
    {
     "name": "stdout",
     "output_type": "stream",
     "text": [
      " * postgresql://student@/Group1\n",
      "Done.\n",
      "266994 rows affected.\n"
     ]
    },
    {
     "data": {
      "text/plain": [
       "[]"
      ]
     },
     "execution_count": 42,
     "metadata": {},
     "output_type": "execute_result"
    }
   ],
   "source": [
    "%%sql\n",
    "DROP TABLE IF EXISTS temp2;\n",
    "\n",
    "CREATE TABLE temp2 AS\n",
    "SELECT *\n",
    "FROM temp\n",
    "LEFT JOIN temp1\n",
    "ON temp.key = temp1.key1;"
   ]
  },
  {
   "cell_type": "code",
   "execution_count": 43,
   "metadata": {},
   "outputs": [
    {
     "name": "stdout",
     "output_type": "stream",
     "text": [
      " * postgresql://student@/Group1\n",
      "2780 rows affected.\n"
     ]
    },
    {
     "data": {
      "text/plain": [
       "[]"
      ]
     },
     "execution_count": 43,
     "metadata": {},
     "output_type": "execute_result"
    }
   ],
   "source": [
    "%%sql\n",
    "UPDATE temp2\n",
    "SET is_top1percent_by_cate = '1'\n",
    "where is_top1percent_by_cate1 = '1';"
   ]
  },
  {
   "cell_type": "code",
   "execution_count": 44,
   "metadata": {},
   "outputs": [
    {
     "name": "stdout",
     "output_type": "stream",
     "text": [
      " * postgresql://student@/Group1\n",
      "Done.\n",
      "266994 rows affected.\n"
     ]
    },
    {
     "data": {
      "text/plain": [
       "[]"
      ]
     },
     "execution_count": 44,
     "metadata": {},
     "output_type": "execute_result"
    }
   ],
   "source": [
    "%%sql\n",
    "DROP TABLE IF EXISTS install;\n",
    "\n",
    "CREATE TABLE install AS\n",
    "SELECT key, install_number, is_top1percent_by_cate\n",
    "FROM temp2;"
   ]
  },
  {
   "cell_type": "code",
   "execution_count": 45,
   "metadata": {},
   "outputs": [
    {
     "name": "stdout",
     "output_type": "stream",
     "text": [
      " * postgresql://student@/Group1\n",
      "10 rows affected.\n"
     ]
    },
    {
     "data": {
      "text/html": [
       "<table>\n",
       "    <tr>\n",
       "        <th>key</th>\n",
       "        <th>install_number</th>\n",
       "        <th>is_top1percent_by_cate</th>\n",
       "    </tr>\n",
       "    <tr>\n",
       "        <td>1</td>\n",
       "        <td>5000000</td>\n",
       "        <td>False</td>\n",
       "    </tr>\n",
       "    <tr>\n",
       "        <td>2</td>\n",
       "        <td>100000000</td>\n",
       "        <td>True</td>\n",
       "    </tr>\n",
       "    <tr>\n",
       "        <td>3</td>\n",
       "        <td>100000</td>\n",
       "        <td>False</td>\n",
       "    </tr>\n",
       "    <tr>\n",
       "        <td>4</td>\n",
       "        <td>10000000</td>\n",
       "        <td>True</td>\n",
       "    </tr>\n",
       "    <tr>\n",
       "        <td>5</td>\n",
       "        <td>10000</td>\n",
       "        <td>False</td>\n",
       "    </tr>\n",
       "    <tr>\n",
       "        <td>6</td>\n",
       "        <td>100000</td>\n",
       "        <td>False</td>\n",
       "    </tr>\n",
       "    <tr>\n",
       "        <td>7</td>\n",
       "        <td>10000000</td>\n",
       "        <td>True</td>\n",
       "    </tr>\n",
       "    <tr>\n",
       "        <td>8</td>\n",
       "        <td>5000000</td>\n",
       "        <td>True</td>\n",
       "    </tr>\n",
       "    <tr>\n",
       "        <td>9</td>\n",
       "        <td>10000</td>\n",
       "        <td>False</td>\n",
       "    </tr>\n",
       "    <tr>\n",
       "        <td>10</td>\n",
       "        <td>5000000</td>\n",
       "        <td>False</td>\n",
       "    </tr>\n",
       "</table>"
      ],
      "text/plain": [
       "[(1, Decimal('5000000'), False),\n",
       " (2, Decimal('100000000'), True),\n",
       " (3, Decimal('100000'), False),\n",
       " (4, Decimal('10000000'), True),\n",
       " (5, Decimal('10000'), False),\n",
       " (6, Decimal('100000'), False),\n",
       " (7, Decimal('10000000'), True),\n",
       " (8, Decimal('5000000'), True),\n",
       " (9, Decimal('10000'), False),\n",
       " (10, Decimal('5000000'), False)]"
      ]
     },
     "execution_count": 45,
     "metadata": {},
     "output_type": "execute_result"
    }
   ],
   "source": [
    "%%sql\n",
    "SELECT * from install\n",
    "ORDER BY key \n",
    "LIMIT 10;"
   ]
  },
  {
   "cell_type": "code",
   "execution_count": 46,
   "metadata": {},
   "outputs": [
    {
     "name": "stdout",
     "output_type": "stream",
     "text": [
      " * postgresql://student@/Group1\n",
      "Done.\n",
      "Done.\n",
      "Done.\n"
     ]
    },
    {
     "data": {
      "text/plain": [
       "[]"
      ]
     },
     "execution_count": 46,
     "metadata": {},
     "output_type": "execute_result"
    }
   ],
   "source": [
    "%%sql\n",
    "DROP TABLE IF EXISTS temp;\n",
    "DROP TABLE IF EXISTS temp1;\n",
    "DROP TABLE IF EXISTS temp2;"
   ]
  },
  {
   "cell_type": "markdown",
   "metadata": {},
   "source": [
    "## Create Category table"
   ]
  },
  {
   "cell_type": "markdown",
   "metadata": {},
   "source": [
    "Category table stores the category information of apps."
   ]
  },
  {
   "cell_type": "code",
   "execution_count": 47,
   "metadata": {},
   "outputs": [
    {
     "name": "stdout",
     "output_type": "stream",
     "text": [
      " * postgresql://student@/Group1\n",
      "Done.\n",
      "Done.\n"
     ]
    },
    {
     "data": {
      "text/plain": [
       "[]"
      ]
     },
     "execution_count": 47,
     "metadata": {},
     "output_type": "execute_result"
    }
   ],
   "source": [
    "%%sql\n",
    "DROP TABLE IF EXISTS category CASCADE;\n",
    "\n",
    "CREATE TABLE category (\n",
    "    key SERIAL PRIMARY KEY,\n",
    "    category_name VARCHAR(50)\n",
    ");"
   ]
  },
  {
   "cell_type": "code",
   "execution_count": 48,
   "metadata": {},
   "outputs": [
    {
     "name": "stdout",
     "output_type": "stream",
     "text": [
      " * postgresql://student@/Group1\n",
      "266994 rows affected.\n"
     ]
    },
    {
     "data": {
      "text/plain": [
       "[]"
      ]
     },
     "execution_count": 48,
     "metadata": {},
     "output_type": "execute_result"
    }
   ],
   "source": [
    "%%sql\n",
    "INSERT INTO category (category_name)\n",
    "SELECT cate_name\n",
    "FROM Google_Playstore;"
   ]
  },
  {
   "cell_type": "code",
   "execution_count": 49,
   "metadata": {},
   "outputs": [
    {
     "name": "stdout",
     "output_type": "stream",
     "text": [
      " * postgresql://student@/Group1\n",
      "10 rows affected.\n"
     ]
    },
    {
     "data": {
      "text/html": [
       "<table>\n",
       "    <tr>\n",
       "        <th>key</th>\n",
       "        <th>category_name</th>\n",
       "    </tr>\n",
       "    <tr>\n",
       "        <td>1</td>\n",
       "        <td>FOOD_AND_DRINK</td>\n",
       "    </tr>\n",
       "    <tr>\n",
       "        <td>2</td>\n",
       "        <td>TRAVEL_AND_LOCAL</td>\n",
       "    </tr>\n",
       "    <tr>\n",
       "        <td>3</td>\n",
       "        <td>SHOPPING</td>\n",
       "    </tr>\n",
       "    <tr>\n",
       "        <td>4</td>\n",
       "        <td>FOOD_AND_DRINK</td>\n",
       "    </tr>\n",
       "    <tr>\n",
       "        <td>5</td>\n",
       "        <td>FOOD_AND_DRINK</td>\n",
       "    </tr>\n",
       "    <tr>\n",
       "        <td>6</td>\n",
       "        <td>FOOD_AND_DRINK</td>\n",
       "    </tr>\n",
       "    <tr>\n",
       "        <td>7</td>\n",
       "        <td>TRAVEL_AND_LOCAL</td>\n",
       "    </tr>\n",
       "    <tr>\n",
       "        <td>8</td>\n",
       "        <td>FOOD_AND_DRINK</td>\n",
       "    </tr>\n",
       "    <tr>\n",
       "        <td>9</td>\n",
       "        <td>TRAVEL_AND_LOCAL</td>\n",
       "    </tr>\n",
       "    <tr>\n",
       "        <td>10</td>\n",
       "        <td>FOOD_AND_DRINK</td>\n",
       "    </tr>\n",
       "</table>"
      ],
      "text/plain": [
       "[(1, 'FOOD_AND_DRINK'),\n",
       " (2, 'TRAVEL_AND_LOCAL'),\n",
       " (3, 'SHOPPING'),\n",
       " (4, 'FOOD_AND_DRINK'),\n",
       " (5, 'FOOD_AND_DRINK'),\n",
       " (6, 'FOOD_AND_DRINK'),\n",
       " (7, 'TRAVEL_AND_LOCAL'),\n",
       " (8, 'FOOD_AND_DRINK'),\n",
       " (9, 'TRAVEL_AND_LOCAL'),\n",
       " (10, 'FOOD_AND_DRINK')]"
      ]
     },
     "execution_count": 49,
     "metadata": {},
     "output_type": "execute_result"
    }
   ],
   "source": [
    "%%sql\n",
    "SELECT *\n",
    "FROM category\n",
    "LIMIT 10;"
   ]
  },
  {
   "cell_type": "markdown",
   "metadata": {},
   "source": [
    "## create APP table"
   ]
  },
  {
   "cell_type": "markdown",
   "metadata": {},
   "source": [
    "App table is the fact table that links all the dimension tables."
   ]
  },
  {
   "cell_type": "code",
   "execution_count": 50,
   "metadata": {},
   "outputs": [
    {
     "name": "stdout",
     "output_type": "stream",
     "text": [
      " * postgresql://student@/Group1\n",
      "Done.\n",
      "Done.\n"
     ]
    },
    {
     "data": {
      "text/plain": [
       "[]"
      ]
     },
     "execution_count": 50,
     "metadata": {},
     "output_type": "execute_result"
    }
   ],
   "source": [
    "%%sql\n",
    "DROP TABLE IF EXISTS app CASCADE;\n",
    "\n",
    "CREATE TABLE app(\n",
    "    app_id NUMERIC(10) NOT NULL,\n",
    "    app_name VARCHAR(100),\n",
    "    price_key NUMERIC(10),\n",
    "    size_key NUMERIC(10),\n",
    "    install_key NUMERIC(10),\n",
    "    evaluation_key NUMERIC(10),\n",
    "    day_key NUMERIC(10),\n",
    "    category_key NUMERIC(10),\n",
    "    PRIMARY KEY(app_id),\n",
    "    UNIQUE (app_id)\n",
    ");\n"
   ]
  },
  {
   "cell_type": "code",
   "execution_count": 51,
   "metadata": {},
   "outputs": [
    {
     "name": "stdout",
     "output_type": "stream",
     "text": [
      " * postgresql://student@/Group1\n",
      "266994 rows affected.\n"
     ]
    },
    {
     "data": {
      "text/plain": [
       "[]"
      ]
     },
     "execution_count": 51,
     "metadata": {},
     "output_type": "execute_result"
    }
   ],
   "source": [
    "%%sql\n",
    "INSERT INTO App (app_id,APP_NAME)\n",
    "SELECT app_id,APP_NAME\n",
    "FROM Google_Playstore;"
   ]
  },
  {
   "cell_type": "code",
   "execution_count": 52,
   "metadata": {},
   "outputs": [
    {
     "name": "stdout",
     "output_type": "stream",
     "text": [
      " * postgresql://student@/Group1\n",
      "266994 rows affected.\n"
     ]
    },
    {
     "data": {
      "text/plain": [
       "[]"
      ]
     },
     "execution_count": 52,
     "metadata": {},
     "output_type": "execute_result"
    }
   ],
   "source": [
    "%%sql\n",
    "UPDATE App\n",
    "SET price_key = app_id,\n",
    "size_key = app_id,\n",
    "install_key = app_id,\n",
    "evaluation_key = app_id,\n",
    "day_key = app_id,\n",
    "category_key = app_id;"
   ]
  },
  {
   "cell_type": "code",
   "execution_count": 53,
   "metadata": {},
   "outputs": [
    {
     "name": "stdout",
     "output_type": "stream",
     "text": [
      " * postgresql://student@/Group1\n",
      "10 rows affected.\n"
     ]
    },
    {
     "data": {
      "text/html": [
       "<table>\n",
       "    <tr>\n",
       "        <th>app_id</th>\n",
       "        <th>app_name</th>\n",
       "        <th>price_key</th>\n",
       "        <th>size_key</th>\n",
       "        <th>install_key</th>\n",
       "        <th>evaluation_key</th>\n",
       "        <th>day_key</th>\n",
       "        <th>category_key</th>\n",
       "    </tr>\n",
       "    <tr>\n",
       "        <td>1</td>\n",
       "        <td>DoorDash - Food Delivery</td>\n",
       "        <td>1</td>\n",
       "        <td>1</td>\n",
       "        <td>1</td>\n",
       "        <td>1</td>\n",
       "        <td>1</td>\n",
       "        <td>1</td>\n",
       "    </tr>\n",
       "    <tr>\n",
       "        <td>2</td>\n",
       "        <td>TripAdvisor Hotels Flights Restaurants Attractions</td>\n",
       "        <td>2</td>\n",
       "        <td>2</td>\n",
       "        <td>2</td>\n",
       "        <td>2</td>\n",
       "        <td>2</td>\n",
       "        <td>2</td>\n",
       "    </tr>\n",
       "    <tr>\n",
       "        <td>3</td>\n",
       "        <td>Peapod</td>\n",
       "        <td>3</td>\n",
       "        <td>3</td>\n",
       "        <td>3</td>\n",
       "        <td>3</td>\n",
       "        <td>3</td>\n",
       "        <td>3</td>\n",
       "    </tr>\n",
       "    <tr>\n",
       "        <td>4</td>\n",
       "        <td>foodpanda - Local Food Delivery</td>\n",
       "        <td>4</td>\n",
       "        <td>4</td>\n",
       "        <td>4</td>\n",
       "        <td>4</td>\n",
       "        <td>4</td>\n",
       "        <td>4</td>\n",
       "    </tr>\n",
       "    <tr>\n",
       "        <td>5</td>\n",
       "        <td>My CookBook Pro (Ad Free)</td>\n",
       "        <td>5</td>\n",
       "        <td>5</td>\n",
       "        <td>5</td>\n",
       "        <td>5</td>\n",
       "        <td>5</td>\n",
       "        <td>5</td>\n",
       "    </tr>\n",
       "    <tr>\n",
       "        <td>6</td>\n",
       "        <td>Safeway Online Shopping</td>\n",
       "        <td>6</td>\n",
       "        <td>6</td>\n",
       "        <td>6</td>\n",
       "        <td>6</td>\n",
       "        <td>6</td>\n",
       "        <td>6</td>\n",
       "    </tr>\n",
       "    <tr>\n",
       "        <td>7</td>\n",
       "        <td>Yelp: Food- Shopping- Services Nearby</td>\n",
       "        <td>7</td>\n",
       "        <td>7</td>\n",
       "        <td>7</td>\n",
       "        <td>7</td>\n",
       "        <td>7</td>\n",
       "        <td>7</td>\n",
       "    </tr>\n",
       "    <tr>\n",
       "        <td>8</td>\n",
       "        <td>Talabat: Food Delivery</td>\n",
       "        <td>8</td>\n",
       "        <td>8</td>\n",
       "        <td>8</td>\n",
       "        <td>8</td>\n",
       "        <td>8</td>\n",
       "        <td>8</td>\n",
       "    </tr>\n",
       "    <tr>\n",
       "        <td>9</td>\n",
       "        <td>Fast Food Locator | Worldwide Fast Food Finder</td>\n",
       "        <td>9</td>\n",
       "        <td>9</td>\n",
       "        <td>9</td>\n",
       "        <td>9</td>\n",
       "        <td>9</td>\n",
       "        <td>9</td>\n",
       "    </tr>\n",
       "    <tr>\n",
       "        <td>10</td>\n",
       "        <td>Allrecipes Dinner Spinner</td>\n",
       "        <td>10</td>\n",
       "        <td>10</td>\n",
       "        <td>10</td>\n",
       "        <td>10</td>\n",
       "        <td>10</td>\n",
       "        <td>10</td>\n",
       "    </tr>\n",
       "</table>"
      ],
      "text/plain": [
       "[(Decimal('1'), 'DoorDash - Food Delivery', Decimal('1'), Decimal('1'), Decimal('1'), Decimal('1'), Decimal('1'), Decimal('1')),\n",
       " (Decimal('2'), 'TripAdvisor Hotels Flights Restaurants Attractions', Decimal('2'), Decimal('2'), Decimal('2'), Decimal('2'), Decimal('2'), Decimal('2')),\n",
       " (Decimal('3'), 'Peapod', Decimal('3'), Decimal('3'), Decimal('3'), Decimal('3'), Decimal('3'), Decimal('3')),\n",
       " (Decimal('4'), 'foodpanda - Local Food Delivery', Decimal('4'), Decimal('4'), Decimal('4'), Decimal('4'), Decimal('4'), Decimal('4')),\n",
       " (Decimal('5'), 'My CookBook Pro (Ad Free)', Decimal('5'), Decimal('5'), Decimal('5'), Decimal('5'), Decimal('5'), Decimal('5')),\n",
       " (Decimal('6'), 'Safeway Online Shopping', Decimal('6'), Decimal('6'), Decimal('6'), Decimal('6'), Decimal('6'), Decimal('6')),\n",
       " (Decimal('7'), 'Yelp: Food- Shopping- Services Nearby', Decimal('7'), Decimal('7'), Decimal('7'), Decimal('7'), Decimal('7'), Decimal('7')),\n",
       " (Decimal('8'), 'Talabat: Food Delivery', Decimal('8'), Decimal('8'), Decimal('8'), Decimal('8'), Decimal('8'), Decimal('8')),\n",
       " (Decimal('9'), 'Fast Food Locator | Worldwide Fast Food Finder', Decimal('9'), Decimal('9'), Decimal('9'), Decimal('9'), Decimal('9'), Decimal('9')),\n",
       " (Decimal('10'), 'Allrecipes Dinner Spinner', Decimal('10'), Decimal('10'), Decimal('10'), Decimal('10'), Decimal('10'), Decimal('10'))]"
      ]
     },
     "execution_count": 53,
     "metadata": {},
     "output_type": "execute_result"
    }
   ],
   "source": [
    "%%sql\n",
    "SELECT *\n",
    "FROM App\n",
    "LIMIT 10;"
   ]
  },
  {
   "cell_type": "markdown",
   "metadata": {},
   "source": [
    "## Problem 1\n",
    "### What is the minimum rating value of an application to be competitive in its category in the Google Play store? In which categories are the applications under the most competitive pressure?\n"
   ]
  },
  {
   "cell_type": "code",
   "execution_count": 54,
   "metadata": {},
   "outputs": [
    {
     "name": "stdout",
     "output_type": "stream",
     "text": [
      " * postgresql://student@/Group1\n",
      "Done.\n",
      "Done.\n"
     ]
    },
    {
     "data": {
      "text/plain": [
       "[]"
      ]
     },
     "execution_count": 54,
     "metadata": {},
     "output_type": "execute_result"
    }
   ],
   "source": [
    "%%sql\n",
    "DROP VIEW IF EXISTS problem1 CASCADE;\n",
    "\n",
    "CREATE VIEW problem1 AS\n",
    "\n",
    "SELECT category_name, avg_rating_by_cate\n",
    "FROM Category, evaluation\n",
    "WHERE Category.key = evaluation.key;"
   ]
  },
  {
   "cell_type": "code",
   "execution_count": 55,
   "metadata": {},
   "outputs": [
    {
     "name": "stdout",
     "output_type": "stream",
     "text": [
      " * postgresql://student@/Group1\n",
      "15 rows affected.\n"
     ]
    },
    {
     "data": {
      "text/html": [
       "<table>\n",
       "    <tr>\n",
       "        <th>category_name</th>\n",
       "        <th>count</th>\n",
       "        <th>avg_rating_by_cate</th>\n",
       "    </tr>\n",
       "    <tr>\n",
       "        <td>EDUCATION</td>\n",
       "        <td>33391</td>\n",
       "        <td>4.35</td>\n",
       "    </tr>\n",
       "    <tr>\n",
       "        <td>TOOLS</td>\n",
       "        <td>21587</td>\n",
       "        <td>4.14</td>\n",
       "    </tr>\n",
       "    <tr>\n",
       "        <td>BOOKS_AND_REFERENCE</td>\n",
       "        <td>21373</td>\n",
       "        <td>4.48</td>\n",
       "    </tr>\n",
       "    <tr>\n",
       "        <td>ENTERTAINMENT</td>\n",
       "        <td>20603</td>\n",
       "        <td>4.26</td>\n",
       "    </tr>\n",
       "    <tr>\n",
       "        <td>MUSIC_AND_AUDIO</td>\n",
       "        <td>17874</td>\n",
       "        <td>4.43</td>\n",
       "    </tr>\n",
       "    <tr>\n",
       "        <td>LIFESTYLE</td>\n",
       "        <td>15033</td>\n",
       "        <td>4.30</td>\n",
       "    </tr>\n",
       "    <tr>\n",
       "        <td>PERSONALIZATION</td>\n",
       "        <td>10543</td>\n",
       "        <td>4.44</td>\n",
       "    </tr>\n",
       "    <tr>\n",
       "        <td>FINANCE</td>\n",
       "        <td>10340</td>\n",
       "        <td>4.04</td>\n",
       "    </tr>\n",
       "    <tr>\n",
       "        <td>BUSINESS</td>\n",
       "        <td>10229</td>\n",
       "        <td>4.14</td>\n",
       "    </tr>\n",
       "    <tr>\n",
       "        <td>PRODUCTIVITY</td>\n",
       "        <td>9141</td>\n",
       "        <td>4.17</td>\n",
       "    </tr>\n",
       "    <tr>\n",
       "        <td>NEWS_AND_MAGAZINES</td>\n",
       "        <td>8028</td>\n",
       "        <td>4.23</td>\n",
       "    </tr>\n",
       "    <tr>\n",
       "        <td>HEALTH_AND_FITNESS</td>\n",
       "        <td>7537</td>\n",
       "        <td>4.21</td>\n",
       "    </tr>\n",
       "    <tr>\n",
       "        <td>PHOTOGRAPHY</td>\n",
       "        <td>7240</td>\n",
       "        <td>4.17</td>\n",
       "    </tr>\n",
       "    <tr>\n",
       "        <td>TRAVEL_AND_LOCAL</td>\n",
       "        <td>6646</td>\n",
       "        <td>4.13</td>\n",
       "    </tr>\n",
       "    <tr>\n",
       "        <td>SPORTS</td>\n",
       "        <td>5585</td>\n",
       "        <td>4.29</td>\n",
       "    </tr>\n",
       "</table>"
      ],
      "text/plain": [
       "[('EDUCATION', 33391, Decimal('4.35')),\n",
       " ('TOOLS', 21587, Decimal('4.14')),\n",
       " ('BOOKS_AND_REFERENCE', 21373, Decimal('4.48')),\n",
       " ('ENTERTAINMENT', 20603, Decimal('4.26')),\n",
       " ('MUSIC_AND_AUDIO', 17874, Decimal('4.43')),\n",
       " ('LIFESTYLE', 15033, Decimal('4.30')),\n",
       " ('PERSONALIZATION', 10543, Decimal('4.44')),\n",
       " ('FINANCE', 10340, Decimal('4.04')),\n",
       " ('BUSINESS', 10229, Decimal('4.14')),\n",
       " ('PRODUCTIVITY', 9141, Decimal('4.17')),\n",
       " ('NEWS_AND_MAGAZINES', 8028, Decimal('4.23')),\n",
       " ('HEALTH_AND_FITNESS', 7537, Decimal('4.21')),\n",
       " ('PHOTOGRAPHY', 7240, Decimal('4.17')),\n",
       " ('TRAVEL_AND_LOCAL', 6646, Decimal('4.13')),\n",
       " ('SPORTS', 5585, Decimal('4.29'))]"
      ]
     },
     "execution_count": 55,
     "metadata": {},
     "output_type": "execute_result"
    }
   ],
   "source": [
    "%%sql\n",
    "SELECT category_name,count(category_name),avg_rating_by_cate\n",
    "FROM problem1\n",
    "GROUP BY category_name,avg_rating_by_cate\n",
    "ORDER BY count DESC\n",
    "LIMIT 15;"
   ]
  },
  {
   "cell_type": "markdown",
   "metadata": {},
   "source": [
    "## Problem 2\n",
    "### Should app developers limit the size of an application when taking rating and installation numbers into consideration?\n",
    "### What is the size of top 1% application in each category based on installation number or rating number?\n"
   ]
  },
  {
   "cell_type": "code",
   "execution_count": 56,
   "metadata": {},
   "outputs": [
    {
     "name": "stdout",
     "output_type": "stream",
     "text": [
      " * postgresql://student@/Group1\n",
      "Done.\n",
      "Done.\n"
     ]
    },
    {
     "data": {
      "text/plain": [
       "[]"
      ]
     },
     "execution_count": 56,
     "metadata": {},
     "output_type": "execute_result"
    }
   ],
   "source": [
    "%%sql\n",
    "DROP VIEW IF EXISTS problem2 CASCADE;\n",
    "\n",
    "CREATE VIEW problem2 AS\n",
    "SELECT app_id, app_name, category_name , full_size, size_number, install_number, is_top1percent_by_cate, rating_number,rating_is_top1percent_by_cate\n",
    "FROM app\n",
    "JOIN size\n",
    "ON app.size_key = size.key\n",
    "JOIN category\n",
    "ON app.category_key = category.key\n",
    "JOIN install\n",
    "ON app.install_key = install.key\n",
    "JOIN evaluation\n",
    "ON app.evaluation_key = evaluation.key\n",
    "WHERE size.size_magnitude = 'M'\n",
    "ORDER BY size_number DESC, category_name"
   ]
  },
  {
   "cell_type": "markdown",
   "metadata": {},
   "source": [
    "Find largest applications in each category:"
   ]
  },
  {
   "cell_type": "code",
   "execution_count": 57,
   "metadata": {},
   "outputs": [
    {
     "name": "stdout",
     "output_type": "stream",
     "text": [
      " * postgresql://student@/Group1\n",
      "20 rows affected.\n"
     ]
    },
    {
     "data": {
      "text/html": [
       "<table>\n",
       "    <tr>\n",
       "        <th>app_id</th>\n",
       "        <th>app_name</th>\n",
       "        <th>category_name</th>\n",
       "        <th>full_size</th>\n",
       "        <th>install_number</th>\n",
       "        <th>rating_number</th>\n",
       "    </tr>\n",
       "    <tr>\n",
       "        <td>220719</td>\n",
       "        <td>Dreamhouse Next Launcher Theme</td>\n",
       "        <td>ART_AND_DESIGN</td>\n",
       "        <td>94M</td>\n",
       "        <td>1000</td>\n",
       "        <td>4.75</td>\n",
       "    </tr>\n",
       "    <tr>\n",
       "        <td>64174</td>\n",
       "        <td>Regroup AlertManager</td>\n",
       "        <td>ART_AND_DESIGN</td>\n",
       "        <td>94M</td>\n",
       "        <td>500</td>\n",
       "        <td>5.00</td>\n",
       "    </tr>\n",
       "    <tr>\n",
       "        <td>203658</td>\n",
       "        <td>LUBE VR</td>\n",
       "        <td>ART_AND_DESIGN</td>\n",
       "        <td>91M</td>\n",
       "        <td>1000</td>\n",
       "        <td>2.67</td>\n",
       "    </tr>\n",
       "    <tr>\n",
       "        <td>108152</td>\n",
       "        <td>Learn German from scratch</td>\n",
       "        <td>ART_AND_DESIGN</td>\n",
       "        <td>87M</td>\n",
       "        <td>50000</td>\n",
       "        <td>3.93</td>\n",
       "    </tr>\n",
       "    <tr>\n",
       "        <td>227788</td>\n",
       "        <td>Text on Photo/Image : Pic Master</td>\n",
       "        <td>ART_AND_DESIGN</td>\n",
       "        <td>81M</td>\n",
       "        <td>500</td>\n",
       "        <td>5.00</td>\n",
       "    </tr>\n",
       "    <tr>\n",
       "        <td>152814</td>\n",
       "        <td>Channel Tracker - YouTube client</td>\n",
       "        <td>AUTO_AND_VEHICLES</td>\n",
       "        <td>101M</td>\n",
       "        <td>1000000</td>\n",
       "        <td>3.14</td>\n",
       "    </tr>\n",
       "    <tr>\n",
       "        <td>162665</td>\n",
       "        <td>BALIPOST.com Online</td>\n",
       "        <td>AUTO_AND_VEHICLES</td>\n",
       "        <td>98M</td>\n",
       "        <td>1000</td>\n",
       "        <td>3.44</td>\n",
       "    </tr>\n",
       "    <tr>\n",
       "        <td>119902</td>\n",
       "        <td>Sudoku Wizard</td>\n",
       "        <td>AUTO_AND_VEHICLES</td>\n",
       "        <td>98M</td>\n",
       "        <td>50000</td>\n",
       "        <td>3.46</td>\n",
       "    </tr>\n",
       "    <tr>\n",
       "        <td>38601</td>\n",
       "        <td>Share Tube</td>\n",
       "        <td>AUTO_AND_VEHICLES</td>\n",
       "        <td>97M</td>\n",
       "        <td>10000</td>\n",
       "        <td>4.60</td>\n",
       "    </tr>\n",
       "    <tr>\n",
       "        <td>59771</td>\n",
       "        <td>HuHot Rewards</td>\n",
       "        <td>AUTO_AND_VEHICLES</td>\n",
       "        <td>97M</td>\n",
       "        <td>100</td>\n",
       "        <td>4.82</td>\n",
       "    </tr>\n",
       "    <tr>\n",
       "        <td>83482</td>\n",
       "        <td>Reaction Trainer</td>\n",
       "        <td>BEAUTY</td>\n",
       "        <td>98M</td>\n",
       "        <td>100</td>\n",
       "        <td>5.00</td>\n",
       "    </tr>\n",
       "    <tr>\n",
       "        <td>136625</td>\n",
       "        <td>Chicago Transit - CTA</td>\n",
       "        <td>BEAUTY</td>\n",
       "        <td>96M</td>\n",
       "        <td>100</td>\n",
       "        <td>5.00</td>\n",
       "    </tr>\n",
       "    <tr>\n",
       "        <td>87557</td>\n",
       "        <td>My Co-op</td>\n",
       "        <td>BEAUTY</td>\n",
       "        <td>93M</td>\n",
       "        <td>100000</td>\n",
       "        <td>4.46</td>\n",
       "    </tr>\n",
       "    <tr>\n",
       "        <td>100648</td>\n",
       "        <td>Athkar Hisnul Muslim</td>\n",
       "        <td>BEAUTY</td>\n",
       "        <td>91M</td>\n",
       "        <td>50000</td>\n",
       "        <td>4.48</td>\n",
       "    </tr>\n",
       "    <tr>\n",
       "        <td>183199</td>\n",
       "        <td>Convergence Physics</td>\n",
       "        <td>BEAUTY</td>\n",
       "        <td>91M</td>\n",
       "        <td>100</td>\n",
       "        <td>3.00</td>\n",
       "    </tr>\n",
       "    <tr>\n",
       "        <td>58700</td>\n",
       "        <td>???? ??? Bangla Age Calculator</td>\n",
       "        <td>BOOKS_AND_REFERENCE</td>\n",
       "        <td>113M</td>\n",
       "        <td>100</td>\n",
       "        <td>1.00</td>\n",
       "    </tr>\n",
       "    <tr>\n",
       "        <td>124986</td>\n",
       "        <td>Air Bubbles</td>\n",
       "        <td>BOOKS_AND_REFERENCE</td>\n",
       "        <td>100M</td>\n",
       "        <td>1000</td>\n",
       "        <td>4.75</td>\n",
       "    </tr>\n",
       "    <tr>\n",
       "        <td>223342</td>\n",
       "        <td>Str8ts</td>\n",
       "        <td>BOOKS_AND_REFERENCE</td>\n",
       "        <td>99M</td>\n",
       "        <td>1000</td>\n",
       "        <td>4.78</td>\n",
       "    </tr>\n",
       "    <tr>\n",
       "        <td>146998</td>\n",
       "        <td>NW Preferred FCU</td>\n",
       "        <td>BOOKS_AND_REFERENCE</td>\n",
       "        <td>99M</td>\n",
       "        <td>10000</td>\n",
       "        <td>4.83</td>\n",
       "    </tr>\n",
       "    <tr>\n",
       "        <td>241258</td>\n",
       "        <td>Morgenkreis App: games &amp; ideas for kindergarten</td>\n",
       "        <td>BOOKS_AND_REFERENCE</td>\n",
       "        <td>99M</td>\n",
       "        <td>10000</td>\n",
       "        <td>4.71</td>\n",
       "    </tr>\n",
       "</table>"
      ],
      "text/plain": [
       "[(Decimal('220719'), 'Dreamhouse Next Launcher Theme', 'ART_AND_DESIGN', '94M', Decimal('1000'), Decimal('4.75')),\n",
       " (Decimal('64174'), 'Regroup AlertManager', 'ART_AND_DESIGN', '94M', Decimal('500'), Decimal('5.00')),\n",
       " (Decimal('203658'), 'LUBE VR', 'ART_AND_DESIGN', '91M', Decimal('1000'), Decimal('2.67')),\n",
       " (Decimal('108152'), 'Learn German from scratch', 'ART_AND_DESIGN', '87M', Decimal('50000'), Decimal('3.93')),\n",
       " (Decimal('227788'), 'Text on Photo/Image : Pic Master', 'ART_AND_DESIGN', '81M', Decimal('500'), Decimal('5.00')),\n",
       " (Decimal('152814'), 'Channel Tracker - YouTube client', 'AUTO_AND_VEHICLES', '101M', Decimal('1000000'), Decimal('3.14')),\n",
       " (Decimal('162665'), 'BALIPOST.com Online', 'AUTO_AND_VEHICLES', '98M', Decimal('1000'), Decimal('3.44')),\n",
       " (Decimal('119902'), 'Sudoku Wizard', 'AUTO_AND_VEHICLES', '98M', Decimal('50000'), Decimal('3.46')),\n",
       " (Decimal('38601'), 'Share Tube', 'AUTO_AND_VEHICLES', '97M', Decimal('10000'), Decimal('4.60')),\n",
       " (Decimal('59771'), 'HuHot Rewards', 'AUTO_AND_VEHICLES', '97M', Decimal('100'), Decimal('4.82')),\n",
       " (Decimal('83482'), 'Reaction Trainer', 'BEAUTY', '98M', Decimal('100'), Decimal('5.00')),\n",
       " (Decimal('136625'), 'Chicago Transit - CTA', 'BEAUTY', '96M', Decimal('100'), Decimal('5.00')),\n",
       " (Decimal('87557'), 'My Co-op', 'BEAUTY', '93M', Decimal('100000'), Decimal('4.46')),\n",
       " (Decimal('100648'), 'Athkar Hisnul Muslim', 'BEAUTY', '91M', Decimal('50000'), Decimal('4.48')),\n",
       " (Decimal('183199'), 'Convergence Physics', 'BEAUTY', '91M', Decimal('100'), Decimal('3.00')),\n",
       " (Decimal('58700'), '???? ??? Bangla Age Calculator', 'BOOKS_AND_REFERENCE', '113M', Decimal('100'), Decimal('1.00')),\n",
       " (Decimal('124986'), 'Air Bubbles', 'BOOKS_AND_REFERENCE', '100M', Decimal('1000'), Decimal('4.75')),\n",
       " (Decimal('223342'), 'Str8ts', 'BOOKS_AND_REFERENCE', '99M', Decimal('1000'), Decimal('4.78')),\n",
       " (Decimal('146998'), 'NW Preferred FCU', 'BOOKS_AND_REFERENCE', '99M', Decimal('10000'), Decimal('4.83')),\n",
       " (Decimal('241258'), 'Morgenkreis App: games & ideas for kindergarten', 'BOOKS_AND_REFERENCE', '99M', Decimal('10000'), Decimal('4.71'))]"
      ]
     },
     "execution_count": 57,
     "metadata": {},
     "output_type": "execute_result"
    }
   ],
   "source": [
    "%%sql\n",
    "SELECT app_id, app_name, category_name , full_size, install_number,rating_number\n",
    "    FROM (\n",
    "        SELECT app_id, app_name, category_name, full_size, size_number, install_number, rating_number,ROW_NUMBER()\n",
    "          over (Partition BY category_name\n",
    "                ORDER BY size_number DESC ) AS RowNumberRank\n",
    "        FROM problem2 \n",
    "        ) d WHERE RowNumberRank <=5\n",
    "order by category_name\n",
    "limit 20;"
   ]
  },
  {
   "cell_type": "markdown",
   "metadata": {},
   "source": [
    "Find most installed application in each category:"
   ]
  },
  {
   "cell_type": "code",
   "execution_count": 58,
   "metadata": {},
   "outputs": [
    {
     "name": "stdout",
     "output_type": "stream",
     "text": [
      " * postgresql://student@/Group1\n",
      "20 rows affected.\n"
     ]
    },
    {
     "data": {
      "text/html": [
       "<table>\n",
       "    <tr>\n",
       "        <th>app_id</th>\n",
       "        <th>app_name</th>\n",
       "        <th>category_name</th>\n",
       "        <th>full_size</th>\n",
       "        <th>install_number</th>\n",
       "        <th>rating_number</th>\n",
       "    </tr>\n",
       "    <tr>\n",
       "        <td>3660</td>\n",
       "        <td>Decisions: Choose Your Interactive Stories Choice</td>\n",
       "        <td>ART_AND_DESIGN</td>\n",
       "        <td>34M</td>\n",
       "        <td>100000000</td>\n",
       "        <td>4.49</td>\n",
       "    </tr>\n",
       "    <tr>\n",
       "        <td>20250</td>\n",
       "        <td>Houston Fire: EMS Protocols</td>\n",
       "        <td>AUTO_AND_VEHICLES</td>\n",
       "        <td>48M</td>\n",
       "        <td>10000000</td>\n",
       "        <td>4.46</td>\n",
       "    </tr>\n",
       "    <tr>\n",
       "        <td>27133</td>\n",
       "        <td>Epic Sax Guy Button</td>\n",
       "        <td>BEAUTY</td>\n",
       "        <td>0M</td>\n",
       "        <td>10000000</td>\n",
       "        <td>4.42</td>\n",
       "    </tr>\n",
       "    <tr>\n",
       "        <td>1656</td>\n",
       "        <td>Dr. Driving</td>\n",
       "        <td>BOOKS_AND_REFERENCE</td>\n",
       "        <td>0M</td>\n",
       "        <td>100000000</td>\n",
       "        <td>4.16</td>\n",
       "    </tr>\n",
       "    <tr>\n",
       "        <td>417</td>\n",
       "        <td>OfficeSuite - Free Office- PDF- Word-Sheets-Slides</td>\n",
       "        <td>BUSINESS</td>\n",
       "        <td>37M</td>\n",
       "        <td>100000000</td>\n",
       "        <td>4.33</td>\n",
       "    </tr>\n",
       "    <tr>\n",
       "        <td>3372</td>\n",
       "        <td>Google Assistant</td>\n",
       "        <td>COMICS</td>\n",
       "        <td>46M</td>\n",
       "        <td>10000000</td>\n",
       "        <td>4.18</td>\n",
       "    </tr>\n",
       "    <tr>\n",
       "        <td>2729</td>\n",
       "        <td>Mail1Click - Secure Mail</td>\n",
       "        <td>COMMUNICATION</td>\n",
       "        <td>0M</td>\n",
       "        <td>1000000000</td>\n",
       "        <td>4.35</td>\n",
       "    </tr>\n",
       "    <tr>\n",
       "        <td>1439</td>\n",
       "        <td>Hot or Not - Find someone right now</td>\n",
       "        <td>DATING</td>\n",
       "        <td>0M</td>\n",
       "        <td>10000000</td>\n",
       "        <td>4.07</td>\n",
       "    </tr>\n",
       "    <tr>\n",
       "        <td>2352</td>\n",
       "        <td>LEGO___ MINDSTORMS___ Commander</td>\n",
       "        <td>EDUCATION</td>\n",
       "        <td>0M</td>\n",
       "        <td>100000000</td>\n",
       "        <td>4.72</td>\n",
       "    </tr>\n",
       "    <tr>\n",
       "        <td>6799</td>\n",
       "        <td>TweetCaster Pro for Twitter</td>\n",
       "        <td>ENTERTAINMENT</td>\n",
       "        <td>0M</td>\n",
       "        <td>1000000000</td>\n",
       "        <td>4.30</td>\n",
       "    </tr>\n",
       "    <tr>\n",
       "        <td>982</td>\n",
       "        <td>Ticketmaster Event Tickets</td>\n",
       "        <td>EVENTS</td>\n",
       "        <td>19M</td>\n",
       "        <td>10000000</td>\n",
       "        <td>4.07</td>\n",
       "    </tr>\n",
       "    <tr>\n",
       "        <td>161</td>\n",
       "        <td>Google Pay</td>\n",
       "        <td>FINANCE</td>\n",
       "        <td>0M</td>\n",
       "        <td>100000000</td>\n",
       "        <td>4.40</td>\n",
       "    </tr>\n",
       "    <tr>\n",
       "        <td>22</td>\n",
       "        <td>Zomato - Restaurant Finder and Food Delivery App</td>\n",
       "        <td>FOOD_AND_DRINK</td>\n",
       "        <td>0M</td>\n",
       "        <td>50000000</td>\n",
       "        <td>4.33</td>\n",
       "    </tr>\n",
       "    <tr>\n",
       "        <td>1056</td>\n",
       "        <td>Temple Run 2</td>\n",
       "        <td>GAME_ACTION</td>\n",
       "        <td>0M</td>\n",
       "        <td>500000000</td>\n",
       "        <td>4.33</td>\n",
       "    </tr>\n",
       "    <tr>\n",
       "        <td>878</td>\n",
       "        <td>Criminal Case</td>\n",
       "        <td>GAME_ADVENTURE</td>\n",
       "        <td>0M</td>\n",
       "        <td>100000000</td>\n",
       "        <td>4.54</td>\n",
       "    </tr>\n",
       "    <tr>\n",
       "        <td>540</td>\n",
       "        <td>Subway Surfers</td>\n",
       "        <td>GAME_ARCADE</td>\n",
       "        <td>85M</td>\n",
       "        <td>1000000000</td>\n",
       "        <td>4.50</td>\n",
       "    </tr>\n",
       "    <tr>\n",
       "        <td>2276</td>\n",
       "        <td>Fleet Battle - Sea Battle</td>\n",
       "        <td>GAME_BOARD</td>\n",
       "        <td>36M</td>\n",
       "        <td>100000000</td>\n",
       "        <td>4.43</td>\n",
       "    </tr>\n",
       "    <tr>\n",
       "        <td>786</td>\n",
       "        <td>Solitaire</td>\n",
       "        <td>GAME_CARD</td>\n",
       "        <td>0M</td>\n",
       "        <td>100000000</td>\n",
       "        <td>4.37</td>\n",
       "    </tr>\n",
       "    <tr>\n",
       "        <td>11184</td>\n",
       "        <td>Focus To-Do: Pomodoro Timer &amp; To Do List</td>\n",
       "        <td>GAME_CASINO</td>\n",
       "        <td>66M</td>\n",
       "        <td>50000000</td>\n",
       "        <td>4.41</td>\n",
       "    </tr>\n",
       "    <tr>\n",
       "        <td>1188</td>\n",
       "        <td>My Talking Tom</td>\n",
       "        <td>GAME_CASUAL</td>\n",
       "        <td>0M</td>\n",
       "        <td>500000000</td>\n",
       "        <td>4.49</td>\n",
       "    </tr>\n",
       "</table>"
      ],
      "text/plain": [
       "[(Decimal('3660'), 'Decisions: Choose Your Interactive Stories Choice', 'ART_AND_DESIGN', '34M', Decimal('100000000'), Decimal('4.49')),\n",
       " (Decimal('20250'), 'Houston Fire: EMS Protocols', 'AUTO_AND_VEHICLES', '48M', Decimal('10000000'), Decimal('4.46')),\n",
       " (Decimal('27133'), 'Epic Sax Guy Button', 'BEAUTY', '0M', Decimal('10000000'), Decimal('4.42')),\n",
       " (Decimal('1656'), 'Dr. Driving', 'BOOKS_AND_REFERENCE', '0M', Decimal('100000000'), Decimal('4.16')),\n",
       " (Decimal('417'), 'OfficeSuite - Free Office- PDF- Word-Sheets-Slides', 'BUSINESS', '37M', Decimal('100000000'), Decimal('4.33')),\n",
       " (Decimal('3372'), 'Google Assistant', 'COMICS', '46M', Decimal('10000000'), Decimal('4.18')),\n",
       " (Decimal('2729'), 'Mail1Click - Secure Mail', 'COMMUNICATION', '0M', Decimal('1000000000'), Decimal('4.35')),\n",
       " (Decimal('1439'), 'Hot or Not - Find someone right now', 'DATING', '0M', Decimal('10000000'), Decimal('4.07')),\n",
       " (Decimal('2352'), 'LEGO___ MINDSTORMS___ Commander', 'EDUCATION', '0M', Decimal('100000000'), Decimal('4.72')),\n",
       " (Decimal('6799'), 'TweetCaster Pro for Twitter', 'ENTERTAINMENT', '0M', Decimal('1000000000'), Decimal('4.30')),\n",
       " (Decimal('982'), 'Ticketmaster Event Tickets', 'EVENTS', '19M', Decimal('10000000'), Decimal('4.07')),\n",
       " (Decimal('161'), 'Google Pay', 'FINANCE', '0M', Decimal('100000000'), Decimal('4.40')),\n",
       " (Decimal('22'), 'Zomato - Restaurant Finder and Food Delivery App', 'FOOD_AND_DRINK', '0M', Decimal('50000000'), Decimal('4.33')),\n",
       " (Decimal('1056'), 'Temple Run 2', 'GAME_ACTION', '0M', Decimal('500000000'), Decimal('4.33')),\n",
       " (Decimal('878'), 'Criminal Case', 'GAME_ADVENTURE', '0M', Decimal('100000000'), Decimal('4.54')),\n",
       " (Decimal('540'), 'Subway Surfers', 'GAME_ARCADE', '85M', Decimal('1000000000'), Decimal('4.50')),\n",
       " (Decimal('2276'), 'Fleet Battle - Sea Battle', 'GAME_BOARD', '36M', Decimal('100000000'), Decimal('4.43')),\n",
       " (Decimal('786'), 'Solitaire', 'GAME_CARD', '0M', Decimal('100000000'), Decimal('4.37')),\n",
       " (Decimal('11184'), 'Focus To-Do: Pomodoro Timer & To Do List', 'GAME_CASINO', '66M', Decimal('50000000'), Decimal('4.41')),\n",
       " (Decimal('1188'), 'My Talking Tom', 'GAME_CASUAL', '0M', Decimal('500000000'), Decimal('4.49'))]"
      ]
     },
     "execution_count": 58,
     "metadata": {},
     "output_type": "execute_result"
    }
   ],
   "source": [
    "%%sql\n",
    "SELECT app_id, app_name, category_name , full_size, install_number,rating_number\n",
    "    FROM (\n",
    "        SELECT app_id, app_name, category_name, full_size, size_number, install_number, rating_number,ROW_NUMBER()\n",
    "          over (Partition BY category_name\n",
    "                ORDER BY install_number DESC ) AS RowNumberRank\n",
    "        FROM problem2 \n",
    "        ) d WHERE RowNumberRank <=1\n",
    "order by category_name\n",
    "limit 20;"
   ]
  },
  {
   "cell_type": "markdown",
   "metadata": {},
   "source": [
    "Find the size of top5 most installed application in each category:"
   ]
  },
  {
   "cell_type": "code",
   "execution_count": 59,
   "metadata": {},
   "outputs": [
    {
     "name": "stdout",
     "output_type": "stream",
     "text": [
      " * postgresql://student@/Group1\n",
      "10 rows affected.\n"
     ]
    },
    {
     "data": {
      "text/html": [
       "<table>\n",
       "    <tr>\n",
       "        <th>app_id</th>\n",
       "        <th>app_name</th>\n",
       "        <th>category_name</th>\n",
       "        <th>full_size</th>\n",
       "        <th>install_number</th>\n",
       "    </tr>\n",
       "    <tr>\n",
       "        <td>3660</td>\n",
       "        <td>Decisions: Choose Your Interactive Stories Choice</td>\n",
       "        <td>ART_AND_DESIGN</td>\n",
       "        <td>34M</td>\n",
       "        <td>100000000</td>\n",
       "    </tr>\n",
       "    <tr>\n",
       "        <td>38313</td>\n",
       "        <td>????? MonokuroWorld</td>\n",
       "        <td>ART_AND_DESIGN</td>\n",
       "        <td>26M</td>\n",
       "        <td>50000000</td>\n",
       "    </tr>\n",
       "    <tr>\n",
       "        <td>715</td>\n",
       "        <td>PaperColor : Paint Draw Sketchbook &amp; PaperDraw</td>\n",
       "        <td>ART_AND_DESIGN</td>\n",
       "        <td>16M</td>\n",
       "        <td>10000000</td>\n",
       "    </tr>\n",
       "    <tr>\n",
       "        <td>824</td>\n",
       "        <td>Canva: Graphic Design &amp; Logo- Flyer- Poster maker</td>\n",
       "        <td>ART_AND_DESIGN</td>\n",
       "        <td>17M</td>\n",
       "        <td>10000000</td>\n",
       "    </tr>\n",
       "    <tr>\n",
       "        <td>717</td>\n",
       "        <td>ibis Paint X</td>\n",
       "        <td>ART_AND_DESIGN</td>\n",
       "        <td>30M</td>\n",
       "        <td>10000000</td>\n",
       "    </tr>\n",
       "    <tr>\n",
       "        <td>2255</td>\n",
       "        <td>Extreme City Mega GT Ramp 2019</td>\n",
       "        <td>AUTO_AND_VEHICLES</td>\n",
       "        <td>46M</td>\n",
       "        <td>10000000</td>\n",
       "    </tr>\n",
       "    <tr>\n",
       "        <td>3784</td>\n",
       "        <td>Learn professions</td>\n",
       "        <td>AUTO_AND_VEHICLES</td>\n",
       "        <td>29M</td>\n",
       "        <td>10000000</td>\n",
       "    </tr>\n",
       "    <tr>\n",
       "        <td>6197</td>\n",
       "        <td>???????????? ????????? - Mobile Tips 2019</td>\n",
       "        <td>AUTO_AND_VEHICLES</td>\n",
       "        <td>14M</td>\n",
       "        <td>10000000</td>\n",
       "    </tr>\n",
       "    <tr>\n",
       "        <td>21980</td>\n",
       "        <td>Auto Optimizer</td>\n",
       "        <td>AUTO_AND_VEHICLES</td>\n",
       "        <td>44M</td>\n",
       "        <td>10000000</td>\n",
       "    </tr>\n",
       "    <tr>\n",
       "        <td>115129</td>\n",
       "        <td>Calculator andanCalc LT</td>\n",
       "        <td>AUTO_AND_VEHICLES</td>\n",
       "        <td>9.3M</td>\n",
       "        <td>10000000</td>\n",
       "    </tr>\n",
       "</table>"
      ],
      "text/plain": [
       "[(Decimal('3660'), 'Decisions: Choose Your Interactive Stories Choice', 'ART_AND_DESIGN', '34M', Decimal('100000000')),\n",
       " (Decimal('38313'), '????? MonokuroWorld', 'ART_AND_DESIGN', '26M', Decimal('50000000')),\n",
       " (Decimal('715'), 'PaperColor : Paint Draw Sketchbook & PaperDraw', 'ART_AND_DESIGN', '16M', Decimal('10000000')),\n",
       " (Decimal('824'), 'Canva: Graphic Design & Logo- Flyer- Poster maker', 'ART_AND_DESIGN', '17M', Decimal('10000000')),\n",
       " (Decimal('717'), 'ibis Paint X', 'ART_AND_DESIGN', '30M', Decimal('10000000')),\n",
       " (Decimal('2255'), 'Extreme City Mega GT Ramp 2019', 'AUTO_AND_VEHICLES', '46M', Decimal('10000000')),\n",
       " (Decimal('3784'), 'Learn professions', 'AUTO_AND_VEHICLES', '29M', Decimal('10000000')),\n",
       " (Decimal('6197'), '???????????? ????????? - Mobile Tips 2019', 'AUTO_AND_VEHICLES', '14M', Decimal('10000000')),\n",
       " (Decimal('21980'), 'Auto Optimizer', 'AUTO_AND_VEHICLES', '44M', Decimal('10000000')),\n",
       " (Decimal('115129'), 'Calculator andanCalc LT', 'AUTO_AND_VEHICLES', '9.3M', Decimal('10000000'))]"
      ]
     },
     "execution_count": 59,
     "metadata": {},
     "output_type": "execute_result"
    }
   ],
   "source": [
    "%%sql\n",
    "SELECT app_id, app_name, category_name , full_size, install_number\n",
    "    FROM (\n",
    "        SELECT app_id, app_name, category_name, full_size, size_number, install_number,ROW_NUMBER()\n",
    "          over (Partition BY category_name\n",
    "                ORDER BY install_number DESC ) AS RowNumberRank\n",
    "        FROM problem2\n",
    "        WHERE is_top1percent_by_cate = '1'\n",
    "        ) d WHERE RowNumberRank<=5\n",
    "order by category_name, install_number DESC\n",
    "LIMIT 10;"
   ]
  },
  {
   "cell_type": "code",
   "execution_count": 60,
   "metadata": {},
   "outputs": [
    {
     "name": "stdout",
     "output_type": "stream",
     "text": [
      " * postgresql://student@/Group1\n",
      "Done.\n",
      "Done.\n"
     ]
    },
    {
     "data": {
      "text/plain": [
       "[]"
      ]
     },
     "execution_count": 60,
     "metadata": {},
     "output_type": "execute_result"
    }
   ],
   "source": [
    "%%sql\n",
    "DROP VIEW IF EXISTS install1 CASCADE;\n",
    "\n",
    "CREATE VIEW install1 AS\n",
    "SELECT app_id, app_name, category_name , full_size,size_number,install_number\n",
    "    FROM (\n",
    "        SELECT app_id, app_name, category_name, full_size, size_number, install_number,ROW_NUMBER()\n",
    "          over (Partition BY category_name\n",
    "                ORDER BY install_number DESC ) AS RowNumberRank\n",
    "        FROM problem2\n",
    "        WHERE is_top1percent_by_cate = '1'\n",
    "        ) d WHERE RowNumberRank<=5\n",
    "order by category_name, install_number DESC"
   ]
  },
  {
   "cell_type": "code",
   "execution_count": 61,
   "metadata": {},
   "outputs": [
    {
     "name": "stdout",
     "output_type": "stream",
     "text": [
      " * postgresql://student@/Group1\n",
      "10 rows affected.\n"
     ]
    },
    {
     "data": {
      "text/html": [
       "<table>\n",
       "    <tr>\n",
       "        <th>category_name</th>\n",
       "        <th>avg</th>\n",
       "    </tr>\n",
       "    <tr>\n",
       "        <td>ART_AND_DESIGN</td>\n",
       "        <td>24.6000000000000000</td>\n",
       "    </tr>\n",
       "    <tr>\n",
       "        <td>AUTO_AND_VEHICLES</td>\n",
       "        <td>28.4600000000000000</td>\n",
       "    </tr>\n",
       "    <tr>\n",
       "        <td>BEAUTY</td>\n",
       "        <td>21.2000000000000000</td>\n",
       "    </tr>\n",
       "    <tr>\n",
       "        <td>BOOKS_AND_REFERENCE</td>\n",
       "        <td>4.3600000000000000</td>\n",
       "    </tr>\n",
       "    <tr>\n",
       "        <td>BUSINESS</td>\n",
       "        <td>20.3800000000000000</td>\n",
       "    </tr>\n",
       "    <tr>\n",
       "        <td>COMICS</td>\n",
       "        <td>19.2000000000000000</td>\n",
       "    </tr>\n",
       "    <tr>\n",
       "        <td>COMMUNICATION</td>\n",
       "        <td>4.0000000000000000</td>\n",
       "    </tr>\n",
       "    <tr>\n",
       "        <td>DATING</td>\n",
       "        <td>10.3333333333333333</td>\n",
       "    </tr>\n",
       "    <tr>\n",
       "        <td>EDUCATION</td>\n",
       "        <td>1.6400000000000000</td>\n",
       "    </tr>\n",
       "    <tr>\n",
       "        <td>ENTERTAINMENT</td>\n",
       "        <td>26.4000000000000000</td>\n",
       "    </tr>\n",
       "</table>"
      ],
      "text/plain": [
       "[('ART_AND_DESIGN', Decimal('24.6000000000000000')),\n",
       " ('AUTO_AND_VEHICLES', Decimal('28.4600000000000000')),\n",
       " ('BEAUTY', Decimal('21.2000000000000000')),\n",
       " ('BOOKS_AND_REFERENCE', Decimal('4.3600000000000000')),\n",
       " ('BUSINESS', Decimal('20.3800000000000000')),\n",
       " ('COMICS', Decimal('19.2000000000000000')),\n",
       " ('COMMUNICATION', Decimal('4.0000000000000000')),\n",
       " ('DATING', Decimal('10.3333333333333333')),\n",
       " ('EDUCATION', Decimal('1.6400000000000000')),\n",
       " ('ENTERTAINMENT', Decimal('26.4000000000000000'))]"
      ]
     },
     "execution_count": 61,
     "metadata": {},
     "output_type": "execute_result"
    }
   ],
   "source": [
    "%%sql\n",
    "SELECT category_name, AVG(size_number) FROM install1 GROUP BY category_name\n",
    "LIMIT 10;"
   ]
  },
  {
   "cell_type": "markdown",
   "metadata": {},
   "source": [
    "Find the size of top5 rated applications in each category:"
   ]
  },
  {
   "cell_type": "code",
   "execution_count": 62,
   "metadata": {},
   "outputs": [
    {
     "name": "stdout",
     "output_type": "stream",
     "text": [
      " * postgresql://student@/Group1\n",
      "10 rows affected.\n"
     ]
    },
    {
     "data": {
      "text/html": [
       "<table>\n",
       "    <tr>\n",
       "        <th>app_id</th>\n",
       "        <th>app_name</th>\n",
       "        <th>category_name</th>\n",
       "        <th>full_size</th>\n",
       "        <th>rating_number</th>\n",
       "    </tr>\n",
       "    <tr>\n",
       "        <td>253326</td>\n",
       "        <td>Smartmilk</td>\n",
       "        <td>ART_AND_DESIGN</td>\n",
       "        <td>4M</td>\n",
       "        <td>5.00</td>\n",
       "    </tr>\n",
       "    <tr>\n",
       "        <td>259293</td>\n",
       "        <td>? Diamond Color by Number - Painting Games ?</td>\n",
       "        <td>ART_AND_DESIGN</td>\n",
       "        <td>6M</td>\n",
       "        <td>5.00</td>\n",
       "    </tr>\n",
       "    <tr>\n",
       "        <td>260055</td>\n",
       "        <td>Wrought Iron Furniture Design</td>\n",
       "        <td>ART_AND_DESIGN</td>\n",
       "        <td>8.7M</td>\n",
       "        <td>5.00</td>\n",
       "    </tr>\n",
       "    <tr>\n",
       "        <td>250775</td>\n",
       "        <td>Espace Maison</td>\n",
       "        <td>ART_AND_DESIGN</td>\n",
       "        <td>14M</td>\n",
       "        <td>5.00</td>\n",
       "    </tr>\n",
       "    <tr>\n",
       "        <td>246295</td>\n",
       "        <td>Kurabiye Tarifleri</td>\n",
       "        <td>ART_AND_DESIGN</td>\n",
       "        <td>4.1M</td>\n",
       "        <td>4.65</td>\n",
       "    </tr>\n",
       "    <tr>\n",
       "        <td>142012</td>\n",
       "        <td>Glooko Kiosk - Providers Only</td>\n",
       "        <td>AUTO_AND_VEHICLES</td>\n",
       "        <td>5.4M</td>\n",
       "        <td>5.00</td>\n",
       "    </tr>\n",
       "    <tr>\n",
       "        <td>238547</td>\n",
       "        <td>HK_Sky Line</td>\n",
       "        <td>AUTO_AND_VEHICLES</td>\n",
       "        <td>5.3M</td>\n",
       "        <td>4.73</td>\n",
       "    </tr>\n",
       "    <tr>\n",
       "        <td>204866</td>\n",
       "        <td>Snow Excavator Dredge Simulator - Rescue Game</td>\n",
       "        <td>AUTO_AND_VEHICLES</td>\n",
       "        <td>50M</td>\n",
       "        <td>4.66</td>\n",
       "    </tr>\n",
       "    <tr>\n",
       "        <td>204857</td>\n",
       "        <td>Peco Online - Preturi benzina- motorina si GPL</td>\n",
       "        <td>AUTO_AND_VEHICLES</td>\n",
       "        <td>7.2M</td>\n",
       "        <td>4.63</td>\n",
       "    </tr>\n",
       "    <tr>\n",
       "        <td>157462</td>\n",
       "        <td>Dominican Radio</td>\n",
       "        <td>AUTO_AND_VEHICLES</td>\n",
       "        <td>11M</td>\n",
       "        <td>4.57</td>\n",
       "    </tr>\n",
       "</table>"
      ],
      "text/plain": [
       "[(Decimal('253326'), 'Smartmilk', 'ART_AND_DESIGN', '4M', Decimal('5.00')),\n",
       " (Decimal('259293'), '? Diamond Color by Number - Painting Games ?', 'ART_AND_DESIGN', '6M', Decimal('5.00')),\n",
       " (Decimal('260055'), 'Wrought Iron Furniture Design', 'ART_AND_DESIGN', '8.7M', Decimal('5.00')),\n",
       " (Decimal('250775'), 'Espace Maison', 'ART_AND_DESIGN', '14M', Decimal('5.00')),\n",
       " (Decimal('246295'), 'Kurabiye Tarifleri', 'ART_AND_DESIGN', '4.1M', Decimal('4.65')),\n",
       " (Decimal('142012'), 'Glooko Kiosk - Providers Only', 'AUTO_AND_VEHICLES', '5.4M', Decimal('5.00')),\n",
       " (Decimal('238547'), 'HK_Sky Line', 'AUTO_AND_VEHICLES', '5.3M', Decimal('4.73')),\n",
       " (Decimal('204866'), 'Snow Excavator Dredge Simulator - Rescue Game', 'AUTO_AND_VEHICLES', '50M', Decimal('4.66')),\n",
       " (Decimal('204857'), 'Peco Online - Preturi benzina- motorina si GPL', 'AUTO_AND_VEHICLES', '7.2M', Decimal('4.63')),\n",
       " (Decimal('157462'), 'Dominican Radio', 'AUTO_AND_VEHICLES', '11M', Decimal('4.57'))]"
      ]
     },
     "execution_count": 62,
     "metadata": {},
     "output_type": "execute_result"
    }
   ],
   "source": [
    "%%sql\n",
    "SELECT app_id, app_name, category_name , full_size, rating_number \n",
    "    FROM (\n",
    "        SELECT app_id, app_name, category_name, full_size, size_number, rating_number, ROW_NUMBER()\n",
    "          over (Partition BY category_name\n",
    "                ORDER BY rating_number DESC) AS rank\n",
    "        FROM problem2\n",
    "        WHERE rating_is_top1percent_by_cate = '1'\n",
    "        ) d WHERE rank <= 5\n",
    "order by category_name\n",
    "LIMIT 10;"
   ]
  },
  {
   "cell_type": "code",
   "execution_count": 63,
   "metadata": {},
   "outputs": [
    {
     "name": "stdout",
     "output_type": "stream",
     "text": [
      " * postgresql://student@/Group1\n",
      "Done.\n",
      "Done.\n"
     ]
    },
    {
     "data": {
      "text/plain": [
       "[]"
      ]
     },
     "execution_count": 63,
     "metadata": {},
     "output_type": "execute_result"
    }
   ],
   "source": [
    "%%sql\n",
    "DROP VIEW IF EXISTS rating1 CASCADE;\n",
    "\n",
    "CREATE VIEW rating1 AS\n",
    "SELECT app_id, app_name, category_name , full_size, size_number, rating_number \n",
    "    FROM (\n",
    "        SELECT app_id, app_name, category_name, full_size, size_number, rating_number, ROW_NUMBER()\n",
    "          over (Partition BY category_name\n",
    "                ORDER BY rating_number DESC) AS rank\n",
    "        FROM problem2\n",
    "        WHERE rating_is_top1percent_by_cate = '1'\n",
    "        ) d WHERE rank <= 5\n",
    "order by category_name"
   ]
  },
  {
   "cell_type": "code",
   "execution_count": 64,
   "metadata": {},
   "outputs": [
    {
     "name": "stdout",
     "output_type": "stream",
     "text": [
      " * postgresql://student@/Group1\n",
      "10 rows affected.\n"
     ]
    },
    {
     "data": {
      "text/html": [
       "<table>\n",
       "    <tr>\n",
       "        <th>category_name</th>\n",
       "        <th>avg</th>\n",
       "    </tr>\n",
       "    <tr>\n",
       "        <td>ART_AND_DESIGN</td>\n",
       "        <td>7.3600000000000000</td>\n",
       "    </tr>\n",
       "    <tr>\n",
       "        <td>AUTO_AND_VEHICLES</td>\n",
       "        <td>15.7800000000000000</td>\n",
       "    </tr>\n",
       "    <tr>\n",
       "        <td>BEAUTY</td>\n",
       "        <td>12.9800000000000000</td>\n",
       "    </tr>\n",
       "    <tr>\n",
       "        <td>BOOKS_AND_REFERENCE</td>\n",
       "        <td>8.6200000000000000</td>\n",
       "    </tr>\n",
       "    <tr>\n",
       "        <td>BUSINESS</td>\n",
       "        <td>9.5600000000000000</td>\n",
       "    </tr>\n",
       "    <tr>\n",
       "        <td>COMICS</td>\n",
       "        <td>26.9000000000000000</td>\n",
       "    </tr>\n",
       "    <tr>\n",
       "        <td>COMMUNICATION</td>\n",
       "        <td>14.4000000000000000</td>\n",
       "    </tr>\n",
       "    <tr>\n",
       "        <td>DATING</td>\n",
       "        <td>19.0333333333333333</td>\n",
       "    </tr>\n",
       "    <tr>\n",
       "        <td>EDUCATION</td>\n",
       "        <td>7.5000000000000000</td>\n",
       "    </tr>\n",
       "    <tr>\n",
       "        <td>ENTERTAINMENT</td>\n",
       "        <td>6.9000000000000000</td>\n",
       "    </tr>\n",
       "</table>"
      ],
      "text/plain": [
       "[('ART_AND_DESIGN', Decimal('7.3600000000000000')),\n",
       " ('AUTO_AND_VEHICLES', Decimal('15.7800000000000000')),\n",
       " ('BEAUTY', Decimal('12.9800000000000000')),\n",
       " ('BOOKS_AND_REFERENCE', Decimal('8.6200000000000000')),\n",
       " ('BUSINESS', Decimal('9.5600000000000000')),\n",
       " ('COMICS', Decimal('26.9000000000000000')),\n",
       " ('COMMUNICATION', Decimal('14.4000000000000000')),\n",
       " ('DATING', Decimal('19.0333333333333333')),\n",
       " ('EDUCATION', Decimal('7.5000000000000000')),\n",
       " ('ENTERTAINMENT', Decimal('6.9000000000000000'))]"
      ]
     },
     "execution_count": 64,
     "metadata": {},
     "output_type": "execute_result"
    }
   ],
   "source": [
    "%%sql\n",
    "SELECT category_name, AVG(size_number) FROM rating1 GROUP BY category_name\n",
    "LIMIT 10;"
   ]
  },
  {
   "cell_type": "markdown",
   "metadata": {},
   "source": [
    "## Problem 3\n",
    "### 1) Which category has the most paid applications?"
   ]
  },
  {
   "cell_type": "code",
   "execution_count": 65,
   "metadata": {},
   "outputs": [
    {
     "name": "stdout",
     "output_type": "stream",
     "text": [
      " * postgresql://student@/Group1\n",
      "Done.\n",
      "Done.\n"
     ]
    },
    {
     "data": {
      "text/plain": [
       "[]"
      ]
     },
     "execution_count": 65,
     "metadata": {},
     "output_type": "execute_result"
    }
   ],
   "source": [
    "%%sql\n",
    "DROP VIEW IF EXISTS problem3 CASCADE;\n",
    "\n",
    "CREATE VIEW problem3 AS\n",
    "\n",
    "SELECT category_name,price_number,is_paid\n",
    "FROM Category,Price\n",
    "WHERE Category.key = Price.key;"
   ]
  },
  {
   "cell_type": "code",
   "execution_count": 66,
   "metadata": {},
   "outputs": [
    {
     "name": "stdout",
     "output_type": "stream",
     "text": [
      " * postgresql://student@/Group1\n",
      "10 rows affected.\n"
     ]
    },
    {
     "data": {
      "text/html": [
       "<table>\n",
       "    <tr>\n",
       "        <th>category_name</th>\n",
       "        <th>price_number</th>\n",
       "        <th>is_paid</th>\n",
       "    </tr>\n",
       "    <tr>\n",
       "        <td>FOOD_AND_DRINK</td>\n",
       "        <td>0.00</td>\n",
       "        <td>0</td>\n",
       "    </tr>\n",
       "    <tr>\n",
       "        <td>TRAVEL_AND_LOCAL</td>\n",
       "        <td>0.00</td>\n",
       "        <td>0</td>\n",
       "    </tr>\n",
       "    <tr>\n",
       "        <td>SHOPPING</td>\n",
       "        <td>0.00</td>\n",
       "        <td>0</td>\n",
       "    </tr>\n",
       "    <tr>\n",
       "        <td>FOOD_AND_DRINK</td>\n",
       "        <td>0.00</td>\n",
       "        <td>0</td>\n",
       "    </tr>\n",
       "    <tr>\n",
       "        <td>FOOD_AND_DRINK</td>\n",
       "        <td>5.99</td>\n",
       "        <td>1</td>\n",
       "    </tr>\n",
       "    <tr>\n",
       "        <td>FOOD_AND_DRINK</td>\n",
       "        <td>0.00</td>\n",
       "        <td>0</td>\n",
       "    </tr>\n",
       "    <tr>\n",
       "        <td>TRAVEL_AND_LOCAL</td>\n",
       "        <td>0.00</td>\n",
       "        <td>0</td>\n",
       "    </tr>\n",
       "    <tr>\n",
       "        <td>FOOD_AND_DRINK</td>\n",
       "        <td>0.00</td>\n",
       "        <td>0</td>\n",
       "    </tr>\n",
       "    <tr>\n",
       "        <td>TRAVEL_AND_LOCAL</td>\n",
       "        <td>0.00</td>\n",
       "        <td>0</td>\n",
       "    </tr>\n",
       "    <tr>\n",
       "        <td>FOOD_AND_DRINK</td>\n",
       "        <td>0.00</td>\n",
       "        <td>0</td>\n",
       "    </tr>\n",
       "</table>"
      ],
      "text/plain": [
       "[('FOOD_AND_DRINK', Decimal('0.00'), Decimal('0')),\n",
       " ('TRAVEL_AND_LOCAL', Decimal('0.00'), Decimal('0')),\n",
       " ('SHOPPING', Decimal('0.00'), Decimal('0')),\n",
       " ('FOOD_AND_DRINK', Decimal('0.00'), Decimal('0')),\n",
       " ('FOOD_AND_DRINK', Decimal('5.99'), Decimal('1')),\n",
       " ('FOOD_AND_DRINK', Decimal('0.00'), Decimal('0')),\n",
       " ('TRAVEL_AND_LOCAL', Decimal('0.00'), Decimal('0')),\n",
       " ('FOOD_AND_DRINK', Decimal('0.00'), Decimal('0')),\n",
       " ('TRAVEL_AND_LOCAL', Decimal('0.00'), Decimal('0')),\n",
       " ('FOOD_AND_DRINK', Decimal('0.00'), Decimal('0'))]"
      ]
     },
     "execution_count": 66,
     "metadata": {},
     "output_type": "execute_result"
    }
   ],
   "source": [
    "%%sql\n",
    "SELECT*\n",
    "FROM problem3\n",
    "LIMIT 10;"
   ]
  },
  {
   "cell_type": "code",
   "execution_count": 67,
   "metadata": {},
   "outputs": [
    {
     "name": "stdout",
     "output_type": "stream",
     "text": [
      " * postgresql://student@/Group1\n",
      "50 rows affected.\n"
     ]
    },
    {
     "data": {
      "text/html": [
       "<table>\n",
       "    <tr>\n",
       "        <th>category_name</th>\n",
       "        <th>count</th>\n",
       "        <th>Paid</th>\n",
       "        <th>Free</th>\n",
       "    </tr>\n",
       "    <tr>\n",
       "        <td>EDUCATION</td>\n",
       "        <td>33391</td>\n",
       "        <td>1366</td>\n",
       "        <td>32025</td>\n",
       "    </tr>\n",
       "    <tr>\n",
       "        <td>TOOLS</td>\n",
       "        <td>21587</td>\n",
       "        <td>1364</td>\n",
       "        <td>20223</td>\n",
       "    </tr>\n",
       "    <tr>\n",
       "        <td>BOOKS_AND_REFERENCE</td>\n",
       "        <td>21373</td>\n",
       "        <td>715</td>\n",
       "        <td>20658</td>\n",
       "    </tr>\n",
       "    <tr>\n",
       "        <td>ENTERTAINMENT</td>\n",
       "        <td>20603</td>\n",
       "        <td>370</td>\n",
       "        <td>20233</td>\n",
       "    </tr>\n",
       "    <tr>\n",
       "        <td>MUSIC_AND_AUDIO</td>\n",
       "        <td>17874</td>\n",
       "        <td>384</td>\n",
       "        <td>17490</td>\n",
       "    </tr>\n",
       "    <tr>\n",
       "        <td>LIFESTYLE</td>\n",
       "        <td>15033</td>\n",
       "        <td>340</td>\n",
       "        <td>14693</td>\n",
       "    </tr>\n",
       "    <tr>\n",
       "        <td>PERSONALIZATION</td>\n",
       "        <td>10543</td>\n",
       "        <td>774</td>\n",
       "        <td>9769</td>\n",
       "    </tr>\n",
       "    <tr>\n",
       "        <td>FINANCE</td>\n",
       "        <td>10340</td>\n",
       "        <td>140</td>\n",
       "        <td>10200</td>\n",
       "    </tr>\n",
       "    <tr>\n",
       "        <td>BUSINESS</td>\n",
       "        <td>10229</td>\n",
       "        <td>146</td>\n",
       "        <td>10083</td>\n",
       "    </tr>\n",
       "    <tr>\n",
       "        <td>PRODUCTIVITY</td>\n",
       "        <td>9141</td>\n",
       "        <td>555</td>\n",
       "        <td>8586</td>\n",
       "    </tr>\n",
       "    <tr>\n",
       "        <td>NEWS_AND_MAGAZINES</td>\n",
       "        <td>8028</td>\n",
       "        <td>44</td>\n",
       "        <td>7984</td>\n",
       "    </tr>\n",
       "    <tr>\n",
       "        <td>HEALTH_AND_FITNESS</td>\n",
       "        <td>7537</td>\n",
       "        <td>425</td>\n",
       "        <td>7112</td>\n",
       "    </tr>\n",
       "    <tr>\n",
       "        <td>PHOTOGRAPHY</td>\n",
       "        <td>7240</td>\n",
       "        <td>279</td>\n",
       "        <td>6961</td>\n",
       "    </tr>\n",
       "    <tr>\n",
       "        <td>TRAVEL_AND_LOCAL</td>\n",
       "        <td>6646</td>\n",
       "        <td>167</td>\n",
       "        <td>6479</td>\n",
       "    </tr>\n",
       "    <tr>\n",
       "        <td>SPORTS</td>\n",
       "        <td>5585</td>\n",
       "        <td>286</td>\n",
       "        <td>5299</td>\n",
       "    </tr>\n",
       "    <tr>\n",
       "        <td>COMMUNICATION</td>\n",
       "        <td>5486</td>\n",
       "        <td>169</td>\n",
       "        <td>5317</td>\n",
       "    </tr>\n",
       "    <tr>\n",
       "        <td>SHOPPING</td>\n",
       "        <td>5335</td>\n",
       "        <td>29</td>\n",
       "        <td>5306</td>\n",
       "    </tr>\n",
       "    <tr>\n",
       "        <td>SOCIAL</td>\n",
       "        <td>4743</td>\n",
       "        <td>70</td>\n",
       "        <td>4673</td>\n",
       "    </tr>\n",
       "    <tr>\n",
       "        <td>MAPS_AND_NAVIGATION</td>\n",
       "        <td>4091</td>\n",
       "        <td>143</td>\n",
       "        <td>3948</td>\n",
       "    </tr>\n",
       "    <tr>\n",
       "        <td>MEDICAL</td>\n",
       "        <td>3735</td>\n",
       "        <td>387</td>\n",
       "        <td>3348</td>\n",
       "    </tr>\n",
       "    <tr>\n",
       "        <td>GAME_PUZZLE</td>\n",
       "        <td>3620</td>\n",
       "        <td>371</td>\n",
       "        <td>3249</td>\n",
       "    </tr>\n",
       "    <tr>\n",
       "        <td>FOOD_AND_DRINK</td>\n",
       "        <td>3170</td>\n",
       "        <td>48</td>\n",
       "        <td>3122</td>\n",
       "    </tr>\n",
       "    <tr>\n",
       "        <td>VIDEO_PLAYERS</td>\n",
       "        <td>2715</td>\n",
       "        <td>134</td>\n",
       "        <td>2581</td>\n",
       "    </tr>\n",
       "    <tr>\n",
       "        <td>GAME_CASUAL</td>\n",
       "        <td>2426</td>\n",
       "        <td>186</td>\n",
       "        <td>2240</td>\n",
       "    </tr>\n",
       "    <tr>\n",
       "        <td>GAME_ARCADE</td>\n",
       "        <td>2343</td>\n",
       "        <td>269</td>\n",
       "        <td>2074</td>\n",
       "    </tr>\n",
       "    <tr>\n",
       "        <td>AUTO_AND_VEHICLES</td>\n",
       "        <td>2101</td>\n",
       "        <td>83</td>\n",
       "        <td>2018</td>\n",
       "    </tr>\n",
       "    <tr>\n",
       "        <td>GAME_EDUCATIONAL</td>\n",
       "        <td>2006</td>\n",
       "        <td>288</td>\n",
       "        <td>1718</td>\n",
       "    </tr>\n",
       "    <tr>\n",
       "        <td>ART_AND_DESIGN</td>\n",
       "        <td>1758</td>\n",
       "        <td>60</td>\n",
       "        <td>1698</td>\n",
       "    </tr>\n",
       "    <tr>\n",
       "        <td>WEATHER</td>\n",
       "        <td>1643</td>\n",
       "        <td>120</td>\n",
       "        <td>1523</td>\n",
       "    </tr>\n",
       "    <tr>\n",
       "        <td>GAME_SIMULATION</td>\n",
       "        <td>1607</td>\n",
       "        <td>272</td>\n",
       "        <td>1335</td>\n",
       "    </tr>\n",
       "    <tr>\n",
       "        <td>GAME_ACTION</td>\n",
       "        <td>1482</td>\n",
       "        <td>193</td>\n",
       "        <td>1289</td>\n",
       "    </tr>\n",
       "    <tr>\n",
       "        <td>GAME_CARD</td>\n",
       "        <td>1183</td>\n",
       "        <td>85</td>\n",
       "        <td>1098</td>\n",
       "    </tr>\n",
       "    <tr>\n",
       "        <td>GAME_ADVENTURE</td>\n",
       "        <td>1055</td>\n",
       "        <td>334</td>\n",
       "        <td>721</td>\n",
       "    </tr>\n",
       "    <tr>\n",
       "        <td>GAME_ROLE_PLAYING</td>\n",
       "        <td>1035</td>\n",
       "        <td>276</td>\n",
       "        <td>759</td>\n",
       "    </tr>\n",
       "    <tr>\n",
       "        <td>GAME_BOARD</td>\n",
       "        <td>968</td>\n",
       "        <td>154</td>\n",
       "        <td>814</td>\n",
       "    </tr>\n",
       "    <tr>\n",
       "        <td>BEAUTY</td>\n",
       "        <td>958</td>\n",
       "        <td>3</td>\n",
       "        <td>955</td>\n",
       "    </tr>\n",
       "    <tr>\n",
       "        <td>GAME_WORD</td>\n",
       "        <td>946</td>\n",
       "        <td>33</td>\n",
       "        <td>913</td>\n",
       "    </tr>\n",
       "    <tr>\n",
       "        <td>HOUSE_AND_HOME</td>\n",
       "        <td>925</td>\n",
       "        <td>11</td>\n",
       "        <td>914</td>\n",
       "    </tr>\n",
       "    <tr>\n",
       "        <td>GAME_STRATEGY</td>\n",
       "        <td>913</td>\n",
       "        <td>222</td>\n",
       "        <td>691</td>\n",
       "    </tr>\n",
       "    <tr>\n",
       "        <td>GAME_RACING</td>\n",
       "        <td>778</td>\n",
       "        <td>72</td>\n",
       "        <td>706</td>\n",
       "    </tr>\n",
       "    <tr>\n",
       "        <td>GAME_SPORTS</td>\n",
       "        <td>772</td>\n",
       "        <td>102</td>\n",
       "        <td>670</td>\n",
       "    </tr>\n",
       "    <tr>\n",
       "        <td>GAME_TRIVIA</td>\n",
       "        <td>753</td>\n",
       "        <td>33</td>\n",
       "        <td>720</td>\n",
       "    </tr>\n",
       "    <tr>\n",
       "        <td>PARENTING</td>\n",
       "        <td>621</td>\n",
       "        <td>27</td>\n",
       "        <td>594</td>\n",
       "    </tr>\n",
       "    <tr>\n",
       "        <td>EVENTS</td>\n",
       "        <td>615</td>\n",
       "        <td>2</td>\n",
       "        <td>613</td>\n",
       "    </tr>\n",
       "    <tr>\n",
       "        <td>LIBRARIES_AND_DEMO</td>\n",
       "        <td>612</td>\n",
       "        <td>16</td>\n",
       "        <td>596</td>\n",
       "    </tr>\n",
       "    <tr>\n",
       "        <td>COMICS</td>\n",
       "        <td>505</td>\n",
       "        <td>19</td>\n",
       "        <td>486</td>\n",
       "    </tr>\n",
       "    <tr>\n",
       "        <td>GAME_CASINO</td>\n",
       "        <td>367</td>\n",
       "        <td>3</td>\n",
       "        <td>364</td>\n",
       "    </tr>\n",
       "    <tr>\n",
       "        <td>DATING</td>\n",
       "        <td>323</td>\n",
       "        <td>6</td>\n",
       "        <td>317</td>\n",
       "    </tr>\n",
       "    <tr>\n",
       "        <td>GAME_MUSIC</td>\n",
       "        <td>253</td>\n",
       "        <td>29</td>\n",
       "        <td>224</td>\n",
       "    </tr>\n",
       "    <tr>\n",
       "        <td>TRAVEL</td>\n",
       "        <td>1</td>\n",
       "        <td>0</td>\n",
       "        <td>1</td>\n",
       "    </tr>\n",
       "</table>"
      ],
      "text/plain": [
       "[('EDUCATION', 33391, 1366, 32025),\n",
       " ('TOOLS', 21587, 1364, 20223),\n",
       " ('BOOKS_AND_REFERENCE', 21373, 715, 20658),\n",
       " ('ENTERTAINMENT', 20603, 370, 20233),\n",
       " ('MUSIC_AND_AUDIO', 17874, 384, 17490),\n",
       " ('LIFESTYLE', 15033, 340, 14693),\n",
       " ('PERSONALIZATION', 10543, 774, 9769),\n",
       " ('FINANCE', 10340, 140, 10200),\n",
       " ('BUSINESS', 10229, 146, 10083),\n",
       " ('PRODUCTIVITY', 9141, 555, 8586),\n",
       " ('NEWS_AND_MAGAZINES', 8028, 44, 7984),\n",
       " ('HEALTH_AND_FITNESS', 7537, 425, 7112),\n",
       " ('PHOTOGRAPHY', 7240, 279, 6961),\n",
       " ('TRAVEL_AND_LOCAL', 6646, 167, 6479),\n",
       " ('SPORTS', 5585, 286, 5299),\n",
       " ('COMMUNICATION', 5486, 169, 5317),\n",
       " ('SHOPPING', 5335, 29, 5306),\n",
       " ('SOCIAL', 4743, 70, 4673),\n",
       " ('MAPS_AND_NAVIGATION', 4091, 143, 3948),\n",
       " ('MEDICAL', 3735, 387, 3348),\n",
       " ('GAME_PUZZLE', 3620, 371, 3249),\n",
       " ('FOOD_AND_DRINK', 3170, 48, 3122),\n",
       " ('VIDEO_PLAYERS', 2715, 134, 2581),\n",
       " ('GAME_CASUAL', 2426, 186, 2240),\n",
       " ('GAME_ARCADE', 2343, 269, 2074),\n",
       " ('AUTO_AND_VEHICLES', 2101, 83, 2018),\n",
       " ('GAME_EDUCATIONAL', 2006, 288, 1718),\n",
       " ('ART_AND_DESIGN', 1758, 60, 1698),\n",
       " ('WEATHER', 1643, 120, 1523),\n",
       " ('GAME_SIMULATION', 1607, 272, 1335),\n",
       " ('GAME_ACTION', 1482, 193, 1289),\n",
       " ('GAME_CARD', 1183, 85, 1098),\n",
       " ('GAME_ADVENTURE', 1055, 334, 721),\n",
       " ('GAME_ROLE_PLAYING', 1035, 276, 759),\n",
       " ('GAME_BOARD', 968, 154, 814),\n",
       " ('BEAUTY', 958, 3, 955),\n",
       " ('GAME_WORD', 946, 33, 913),\n",
       " ('HOUSE_AND_HOME', 925, 11, 914),\n",
       " ('GAME_STRATEGY', 913, 222, 691),\n",
       " ('GAME_RACING', 778, 72, 706),\n",
       " ('GAME_SPORTS', 772, 102, 670),\n",
       " ('GAME_TRIVIA', 753, 33, 720),\n",
       " ('PARENTING', 621, 27, 594),\n",
       " ('EVENTS', 615, 2, 613),\n",
       " ('LIBRARIES_AND_DEMO', 612, 16, 596),\n",
       " ('COMICS', 505, 19, 486),\n",
       " ('GAME_CASINO', 367, 3, 364),\n",
       " ('DATING', 323, 6, 317),\n",
       " ('GAME_MUSIC', 253, 29, 224),\n",
       " ('TRAVEL', 1, 0, 1)]"
      ]
     },
     "execution_count": 67,
     "metadata": {},
     "output_type": "execute_result"
    }
   ],
   "source": [
    "%%sql\n",
    "SELECT category_name,count(category_name),\n",
    "SUM(CASE WHEN is_paid =1 then 1\n",
    "    ELSE 0 END) AS \"Paid\",\n",
    "SUM(CASE WHEN is_paid =0 then 1\n",
    "   ELSE 0 END) AS \"Free\"\n",
    "\n",
    "FROM problem3\n",
    "GROUP BY category_name\n",
    "ORDER BY count DESC;"
   ]
  },
  {
   "cell_type": "markdown",
   "metadata": {},
   "source": [
    "## 2)     Are the rating scores of paid applications higher than the average rating of unpaid applications in their categories?\n"
   ]
  },
  {
   "cell_type": "code",
   "execution_count": 70,
   "metadata": {},
   "outputs": [
    {
     "name": "stdout",
     "output_type": "stream",
     "text": [
      " * postgresql://student@/Group1\n",
      "Done.\n",
      "Done.\n"
     ]
    },
    {
     "data": {
      "text/plain": [
       "[]"
      ]
     },
     "execution_count": 70,
     "metadata": {},
     "output_type": "execute_result"
    }
   ],
   "source": [
    "%%sql\n",
    "DROP VIEW IF EXISTS problem3_2 CASCADE;\n",
    "\n",
    "CREATE VIEW problem3_2 AS\n",
    "\n",
    "SELECT category_name, is_paid,AVG(rating_number) OVER(PARTITION BY category_name) AS avg_rating_by_cate\n",
    "FROM Category,Price,evaluation\n",
    "WHERE Category.key = Price.key AND Category.key  = evaluation.key AND is_paid =1;"
   ]
  },
  {
   "cell_type": "code",
   "execution_count": 72,
   "metadata": {},
   "outputs": [
    {
     "name": "stdout",
     "output_type": "stream",
     "text": [
      " * postgresql://student@/Group1\n",
      "49 rows affected.\n"
     ]
    },
    {
     "data": {
      "text/html": [
       "<table>\n",
       "    <tr>\n",
       "        <th>category_name</th>\n",
       "        <th>count</th>\n",
       "        <th>avg_rating_by_cate</th>\n",
       "    </tr>\n",
       "    <tr>\n",
       "        <td>EDUCATION</td>\n",
       "        <td>1366</td>\n",
       "        <td>4.3492386530014641</td>\n",
       "    </tr>\n",
       "    <tr>\n",
       "        <td>TOOLS</td>\n",
       "        <td>1364</td>\n",
       "        <td>4.3012536656891496</td>\n",
       "    </tr>\n",
       "    <tr>\n",
       "        <td>PERSONALIZATION</td>\n",
       "        <td>774</td>\n",
       "        <td>4.4833204134366925</td>\n",
       "    </tr>\n",
       "    <tr>\n",
       "        <td>BOOKS_AND_REFERENCE</td>\n",
       "        <td>715</td>\n",
       "        <td>4.3752447552447552</td>\n",
       "    </tr>\n",
       "    <tr>\n",
       "        <td>PRODUCTIVITY</td>\n",
       "        <td>555</td>\n",
       "        <td>4.2967567567567568</td>\n",
       "    </tr>\n",
       "    <tr>\n",
       "        <td>HEALTH_AND_FITNESS</td>\n",
       "        <td>425</td>\n",
       "        <td>4.2797411764705882</td>\n",
       "    </tr>\n",
       "    <tr>\n",
       "        <td>MEDICAL</td>\n",
       "        <td>387</td>\n",
       "        <td>4.2555297157622739</td>\n",
       "    </tr>\n",
       "    <tr>\n",
       "        <td>MUSIC_AND_AUDIO</td>\n",
       "        <td>384</td>\n",
       "        <td>4.3306770833333333</td>\n",
       "    </tr>\n",
       "    <tr>\n",
       "        <td>GAME_PUZZLE</td>\n",
       "        <td>371</td>\n",
       "        <td>4.4561725067385445</td>\n",
       "    </tr>\n",
       "    <tr>\n",
       "        <td>ENTERTAINMENT</td>\n",
       "        <td>370</td>\n",
       "        <td>4.2864324324324324</td>\n",
       "    </tr>\n",
       "    <tr>\n",
       "        <td>LIFESTYLE</td>\n",
       "        <td>340</td>\n",
       "        <td>4.2364411764705882</td>\n",
       "    </tr>\n",
       "    <tr>\n",
       "        <td>GAME_ADVENTURE</td>\n",
       "        <td>334</td>\n",
       "        <td>4.3665568862275449</td>\n",
       "    </tr>\n",
       "    <tr>\n",
       "        <td>GAME_EDUCATIONAL</td>\n",
       "        <td>288</td>\n",
       "        <td>4.2687500000000000</td>\n",
       "    </tr>\n",
       "    <tr>\n",
       "        <td>SPORTS</td>\n",
       "        <td>286</td>\n",
       "        <td>4.2656643356643357</td>\n",
       "    </tr>\n",
       "    <tr>\n",
       "        <td>PHOTOGRAPHY</td>\n",
       "        <td>279</td>\n",
       "        <td>4.1439068100358423</td>\n",
       "    </tr>\n",
       "    <tr>\n",
       "        <td>GAME_ROLE_PLAYING</td>\n",
       "        <td>276</td>\n",
       "        <td>4.4097463768115942</td>\n",
       "    </tr>\n",
       "    <tr>\n",
       "        <td>GAME_SIMULATION</td>\n",
       "        <td>272</td>\n",
       "        <td>4.2913235294117647</td>\n",
       "    </tr>\n",
       "    <tr>\n",
       "        <td>GAME_ARCADE</td>\n",
       "        <td>269</td>\n",
       "        <td>4.3331226765799257</td>\n",
       "    </tr>\n",
       "    <tr>\n",
       "        <td>GAME_STRATEGY</td>\n",
       "        <td>222</td>\n",
       "        <td>4.3886486486486486</td>\n",
       "    </tr>\n",
       "    <tr>\n",
       "        <td>GAME_ACTION</td>\n",
       "        <td>193</td>\n",
       "        <td>4.2597409326424870</td>\n",
       "    </tr>\n",
       "    <tr>\n",
       "        <td>GAME_CASUAL</td>\n",
       "        <td>186</td>\n",
       "        <td>4.2536559139784946</td>\n",
       "    </tr>\n",
       "    <tr>\n",
       "        <td>COMMUNICATION</td>\n",
       "        <td>169</td>\n",
       "        <td>4.1769822485207101</td>\n",
       "    </tr>\n",
       "    <tr>\n",
       "        <td>TRAVEL_AND_LOCAL</td>\n",
       "        <td>167</td>\n",
       "        <td>4.1856886227544910</td>\n",
       "    </tr>\n",
       "    <tr>\n",
       "        <td>GAME_BOARD</td>\n",
       "        <td>154</td>\n",
       "        <td>4.3411688311688312</td>\n",
       "    </tr>\n",
       "    <tr>\n",
       "        <td>BUSINESS</td>\n",
       "        <td>146</td>\n",
       "        <td>4.2100000000000000</td>\n",
       "    </tr>\n",
       "    <tr>\n",
       "        <td>MAPS_AND_NAVIGATION</td>\n",
       "        <td>143</td>\n",
       "        <td>4.2103496503496503</td>\n",
       "    </tr>\n",
       "    <tr>\n",
       "        <td>FINANCE</td>\n",
       "        <td>140</td>\n",
       "        <td>4.3642857142857143</td>\n",
       "    </tr>\n",
       "    <tr>\n",
       "        <td>VIDEO_PLAYERS</td>\n",
       "        <td>134</td>\n",
       "        <td>4.1120895522388060</td>\n",
       "    </tr>\n",
       "    <tr>\n",
       "        <td>WEATHER</td>\n",
       "        <td>120</td>\n",
       "        <td>4.1365000000000000</td>\n",
       "    </tr>\n",
       "    <tr>\n",
       "        <td>GAME_SPORTS</td>\n",
       "        <td>102</td>\n",
       "        <td>4.1527450980392157</td>\n",
       "    </tr>\n",
       "    <tr>\n",
       "        <td>GAME_CARD</td>\n",
       "        <td>85</td>\n",
       "        <td>4.2892941176470588</td>\n",
       "    </tr>\n",
       "    <tr>\n",
       "        <td>AUTO_AND_VEHICLES</td>\n",
       "        <td>83</td>\n",
       "        <td>4.1028915662650602</td>\n",
       "    </tr>\n",
       "    <tr>\n",
       "        <td>GAME_RACING</td>\n",
       "        <td>72</td>\n",
       "        <td>4.2734722222222222</td>\n",
       "    </tr>\n",
       "    <tr>\n",
       "        <td>SOCIAL</td>\n",
       "        <td>70</td>\n",
       "        <td>4.2130000000000000</td>\n",
       "    </tr>\n",
       "    <tr>\n",
       "        <td>ART_AND_DESIGN</td>\n",
       "        <td>60</td>\n",
       "        <td>4.3435000000000000</td>\n",
       "    </tr>\n",
       "    <tr>\n",
       "        <td>FOOD_AND_DRINK</td>\n",
       "        <td>48</td>\n",
       "        <td>4.3843750000000000</td>\n",
       "    </tr>\n",
       "    <tr>\n",
       "        <td>NEWS_AND_MAGAZINES</td>\n",
       "        <td>44</td>\n",
       "        <td>4.2145454545454545</td>\n",
       "    </tr>\n",
       "    <tr>\n",
       "        <td>GAME_TRIVIA</td>\n",
       "        <td>33</td>\n",
       "        <td>4.1069696969696970</td>\n",
       "    </tr>\n",
       "    <tr>\n",
       "        <td>GAME_WORD</td>\n",
       "        <td>33</td>\n",
       "        <td>4.4590909090909091</td>\n",
       "    </tr>\n",
       "    <tr>\n",
       "        <td>GAME_MUSIC</td>\n",
       "        <td>29</td>\n",
       "        <td>4.2255172413793103</td>\n",
       "    </tr>\n",
       "    <tr>\n",
       "        <td>SHOPPING</td>\n",
       "        <td>29</td>\n",
       "        <td>4.1855172413793103</td>\n",
       "    </tr>\n",
       "    <tr>\n",
       "        <td>PARENTING</td>\n",
       "        <td>27</td>\n",
       "        <td>4.4737037037037037</td>\n",
       "    </tr>\n",
       "    <tr>\n",
       "        <td>COMICS</td>\n",
       "        <td>19</td>\n",
       "        <td>4.5826315789473684</td>\n",
       "    </tr>\n",
       "    <tr>\n",
       "        <td>LIBRARIES_AND_DEMO</td>\n",
       "        <td>16</td>\n",
       "        <td>3.9518750000000000</td>\n",
       "    </tr>\n",
       "    <tr>\n",
       "        <td>HOUSE_AND_HOME</td>\n",
       "        <td>11</td>\n",
       "        <td>3.6545454545454545</td>\n",
       "    </tr>\n",
       "    <tr>\n",
       "        <td>DATING</td>\n",
       "        <td>6</td>\n",
       "        <td>3.3033333333333333</td>\n",
       "    </tr>\n",
       "    <tr>\n",
       "        <td>GAME_CASINO</td>\n",
       "        <td>3</td>\n",
       "        <td>3.9233333333333333</td>\n",
       "    </tr>\n",
       "    <tr>\n",
       "        <td>BEAUTY</td>\n",
       "        <td>3</td>\n",
       "        <td>4.8933333333333333</td>\n",
       "    </tr>\n",
       "    <tr>\n",
       "        <td>EVENTS</td>\n",
       "        <td>2</td>\n",
       "        <td>3.0000000000000000</td>\n",
       "    </tr>\n",
       "</table>"
      ],
      "text/plain": [
       "[('EDUCATION', 1366, Decimal('4.3492386530014641')),\n",
       " ('TOOLS', 1364, Decimal('4.3012536656891496')),\n",
       " ('PERSONALIZATION', 774, Decimal('4.4833204134366925')),\n",
       " ('BOOKS_AND_REFERENCE', 715, Decimal('4.3752447552447552')),\n",
       " ('PRODUCTIVITY', 555, Decimal('4.2967567567567568')),\n",
       " ('HEALTH_AND_FITNESS', 425, Decimal('4.2797411764705882')),\n",
       " ('MEDICAL', 387, Decimal('4.2555297157622739')),\n",
       " ('MUSIC_AND_AUDIO', 384, Decimal('4.3306770833333333')),\n",
       " ('GAME_PUZZLE', 371, Decimal('4.4561725067385445')),\n",
       " ('ENTERTAINMENT', 370, Decimal('4.2864324324324324')),\n",
       " ('LIFESTYLE', 340, Decimal('4.2364411764705882')),\n",
       " ('GAME_ADVENTURE', 334, Decimal('4.3665568862275449')),\n",
       " ('GAME_EDUCATIONAL', 288, Decimal('4.2687500000000000')),\n",
       " ('SPORTS', 286, Decimal('4.2656643356643357')),\n",
       " ('PHOTOGRAPHY', 279, Decimal('4.1439068100358423')),\n",
       " ('GAME_ROLE_PLAYING', 276, Decimal('4.4097463768115942')),\n",
       " ('GAME_SIMULATION', 272, Decimal('4.2913235294117647')),\n",
       " ('GAME_ARCADE', 269, Decimal('4.3331226765799257')),\n",
       " ('GAME_STRATEGY', 222, Decimal('4.3886486486486486')),\n",
       " ('GAME_ACTION', 193, Decimal('4.2597409326424870')),\n",
       " ('GAME_CASUAL', 186, Decimal('4.2536559139784946')),\n",
       " ('COMMUNICATION', 169, Decimal('4.1769822485207101')),\n",
       " ('TRAVEL_AND_LOCAL', 167, Decimal('4.1856886227544910')),\n",
       " ('GAME_BOARD', 154, Decimal('4.3411688311688312')),\n",
       " ('BUSINESS', 146, Decimal('4.2100000000000000')),\n",
       " ('MAPS_AND_NAVIGATION', 143, Decimal('4.2103496503496503')),\n",
       " ('FINANCE', 140, Decimal('4.3642857142857143')),\n",
       " ('VIDEO_PLAYERS', 134, Decimal('4.1120895522388060')),\n",
       " ('WEATHER', 120, Decimal('4.1365000000000000')),\n",
       " ('GAME_SPORTS', 102, Decimal('4.1527450980392157')),\n",
       " ('GAME_CARD', 85, Decimal('4.2892941176470588')),\n",
       " ('AUTO_AND_VEHICLES', 83, Decimal('4.1028915662650602')),\n",
       " ('GAME_RACING', 72, Decimal('4.2734722222222222')),\n",
       " ('SOCIAL', 70, Decimal('4.2130000000000000')),\n",
       " ('ART_AND_DESIGN', 60, Decimal('4.3435000000000000')),\n",
       " ('FOOD_AND_DRINK', 48, Decimal('4.3843750000000000')),\n",
       " ('NEWS_AND_MAGAZINES', 44, Decimal('4.2145454545454545')),\n",
       " ('GAME_TRIVIA', 33, Decimal('4.1069696969696970')),\n",
       " ('GAME_WORD', 33, Decimal('4.4590909090909091')),\n",
       " ('GAME_MUSIC', 29, Decimal('4.2255172413793103')),\n",
       " ('SHOPPING', 29, Decimal('4.1855172413793103')),\n",
       " ('PARENTING', 27, Decimal('4.4737037037037037')),\n",
       " ('COMICS', 19, Decimal('4.5826315789473684')),\n",
       " ('LIBRARIES_AND_DEMO', 16, Decimal('3.9518750000000000')),\n",
       " ('HOUSE_AND_HOME', 11, Decimal('3.6545454545454545')),\n",
       " ('DATING', 6, Decimal('3.3033333333333333')),\n",
       " ('GAME_CASINO', 3, Decimal('3.9233333333333333')),\n",
       " ('BEAUTY', 3, Decimal('4.8933333333333333')),\n",
       " ('EVENTS', 2, Decimal('3.0000000000000000'))]"
      ]
     },
     "execution_count": 72,
     "metadata": {},
     "output_type": "execute_result"
    }
   ],
   "source": [
    "%%sql\n",
    "SELECT category_name,count(category_name),avg_rating_by_cate\n",
    "FROM problem3_2\n",
    "GROUP BY category_name, avg_rating_by_cate\n",
    "ORDER BY count DESC;"
   ]
  },
  {
   "cell_type": "code",
   "execution_count": 73,
   "metadata": {},
   "outputs": [
    {
     "name": "stdout",
     "output_type": "stream",
     "text": [
      " * postgresql://student@/Group1\n",
      "Done.\n",
      "Done.\n"
     ]
    },
    {
     "data": {
      "text/plain": [
       "[]"
      ]
     },
     "execution_count": 73,
     "metadata": {},
     "output_type": "execute_result"
    }
   ],
   "source": [
    "%%sql\n",
    "DROP VIEW IF EXISTS problem3_3 CASCADE;\n",
    "\n",
    "CREATE VIEW problem3_3 AS\n",
    "\n",
    "SELECT category_name, is_paid,AVG(rating_number) OVER(PARTITION BY category_name) AS avg_rating\n",
    "FROM Category,Price,evaluation\n",
    "WHERE Category.key = Price.key AND Category.key  = evaluation.key AND is_paid =0;"
   ]
  },
  {
   "cell_type": "code",
   "execution_count": 74,
   "metadata": {},
   "outputs": [
    {
     "name": "stdout",
     "output_type": "stream",
     "text": [
      " * postgresql://student@/Group1\n",
      "50 rows affected.\n"
     ]
    },
    {
     "data": {
      "text/html": [
       "<table>\n",
       "    <tr>\n",
       "        <th>category_name</th>\n",
       "        <th>count</th>\n",
       "        <th>avg_rating</th>\n",
       "    </tr>\n",
       "    <tr>\n",
       "        <td>EDUCATION</td>\n",
       "        <td>32025</td>\n",
       "        <td>4.3471875097580016</td>\n",
       "    </tr>\n",
       "    <tr>\n",
       "        <td>BOOKS_AND_REFERENCE</td>\n",
       "        <td>20658</td>\n",
       "        <td>4.4793295575563946</td>\n",
       "    </tr>\n",
       "    <tr>\n",
       "        <td>ENTERTAINMENT</td>\n",
       "        <td>20233</td>\n",
       "        <td>4.2570202145010626</td>\n",
       "    </tr>\n",
       "    <tr>\n",
       "        <td>TOOLS</td>\n",
       "        <td>20223</td>\n",
       "        <td>4.1315729614795035</td>\n",
       "    </tr>\n",
       "    <tr>\n",
       "        <td>MUSIC_AND_AUDIO</td>\n",
       "        <td>17490</td>\n",
       "        <td>4.4331932532875929</td>\n",
       "    </tr>\n",
       "    <tr>\n",
       "        <td>LIFESTYLE</td>\n",
       "        <td>14693</td>\n",
       "        <td>4.2978302593071531</td>\n",
       "    </tr>\n",
       "    <tr>\n",
       "        <td>FINANCE</td>\n",
       "        <td>10200</td>\n",
       "        <td>4.0374362745098039</td>\n",
       "    </tr>\n",
       "    <tr>\n",
       "        <td>BUSINESS</td>\n",
       "        <td>10083</td>\n",
       "        <td>4.1419289893880789</td>\n",
       "    </tr>\n",
       "    <tr>\n",
       "        <td>PERSONALIZATION</td>\n",
       "        <td>9769</td>\n",
       "        <td>4.4315733442522264</td>\n",
       "    </tr>\n",
       "    <tr>\n",
       "        <td>PRODUCTIVITY</td>\n",
       "        <td>8586</td>\n",
       "        <td>4.1642080130444910</td>\n",
       "    </tr>\n",
       "    <tr>\n",
       "        <td>NEWS_AND_MAGAZINES</td>\n",
       "        <td>7984</td>\n",
       "        <td>4.2280323146292585</td>\n",
       "    </tr>\n",
       "    <tr>\n",
       "        <td>HEALTH_AND_FITNESS</td>\n",
       "        <td>7112</td>\n",
       "        <td>4.2006594488188976</td>\n",
       "    </tr>\n",
       "    <tr>\n",
       "        <td>PHOTOGRAPHY</td>\n",
       "        <td>6961</td>\n",
       "        <td>4.1682876023559833</td>\n",
       "    </tr>\n",
       "    <tr>\n",
       "        <td>TRAVEL_AND_LOCAL</td>\n",
       "        <td>6479</td>\n",
       "        <td>4.1285985491588208</td>\n",
       "    </tr>\n",
       "    <tr>\n",
       "        <td>COMMUNICATION</td>\n",
       "        <td>5317</td>\n",
       "        <td>4.2409290953545232</td>\n",
       "    </tr>\n",
       "    <tr>\n",
       "        <td>SHOPPING</td>\n",
       "        <td>5306</td>\n",
       "        <td>4.2025914059555221</td>\n",
       "    </tr>\n",
       "    <tr>\n",
       "        <td>SPORTS</td>\n",
       "        <td>5299</td>\n",
       "        <td>4.2866031326665409</td>\n",
       "    </tr>\n",
       "    <tr>\n",
       "        <td>SOCIAL</td>\n",
       "        <td>4673</td>\n",
       "        <td>4.3635330622726300</td>\n",
       "    </tr>\n",
       "    <tr>\n",
       "        <td>MAPS_AND_NAVIGATION</td>\n",
       "        <td>3948</td>\n",
       "        <td>4.0154154002026342</td>\n",
       "    </tr>\n",
       "    <tr>\n",
       "        <td>MEDICAL</td>\n",
       "        <td>3348</td>\n",
       "        <td>4.2327688172043011</td>\n",
       "    </tr>\n",
       "    <tr>\n",
       "        <td>GAME_PUZZLE</td>\n",
       "        <td>3249</td>\n",
       "        <td>4.3486580486303478</td>\n",
       "    </tr>\n",
       "    <tr>\n",
       "        <td>FOOD_AND_DRINK</td>\n",
       "        <td>3122</td>\n",
       "        <td>4.3146412556053812</td>\n",
       "    </tr>\n",
       "    <tr>\n",
       "        <td>VIDEO_PLAYERS</td>\n",
       "        <td>2581</td>\n",
       "        <td>4.0501588531576908</td>\n",
       "    </tr>\n",
       "    <tr>\n",
       "        <td>GAME_CASUAL</td>\n",
       "        <td>2240</td>\n",
       "        <td>4.2449062500000000</td>\n",
       "    </tr>\n",
       "    <tr>\n",
       "        <td>GAME_ARCADE</td>\n",
       "        <td>2074</td>\n",
       "        <td>4.2738862102217936</td>\n",
       "    </tr>\n",
       "    <tr>\n",
       "        <td>AUTO_AND_VEHICLES</td>\n",
       "        <td>2018</td>\n",
       "        <td>4.1275520317145689</td>\n",
       "    </tr>\n",
       "    <tr>\n",
       "        <td>GAME_EDUCATIONAL</td>\n",
       "        <td>1718</td>\n",
       "        <td>4.2577066356228172</td>\n",
       "    </tr>\n",
       "    <tr>\n",
       "        <td>ART_AND_DESIGN</td>\n",
       "        <td>1698</td>\n",
       "        <td>4.2251707891637220</td>\n",
       "    </tr>\n",
       "    <tr>\n",
       "        <td>WEATHER</td>\n",
       "        <td>1523</td>\n",
       "        <td>4.2000328299409061</td>\n",
       "    </tr>\n",
       "    <tr>\n",
       "        <td>GAME_SIMULATION</td>\n",
       "        <td>1335</td>\n",
       "        <td>4.2012209737827715</td>\n",
       "    </tr>\n",
       "    <tr>\n",
       "        <td>GAME_ACTION</td>\n",
       "        <td>1289</td>\n",
       "        <td>4.2558805275407292</td>\n",
       "    </tr>\n",
       "    <tr>\n",
       "        <td>GAME_CARD</td>\n",
       "        <td>1098</td>\n",
       "        <td>4.2703187613843352</td>\n",
       "    </tr>\n",
       "    <tr>\n",
       "        <td>BEAUTY</td>\n",
       "        <td>955</td>\n",
       "        <td>4.2945968586387435</td>\n",
       "    </tr>\n",
       "    <tr>\n",
       "        <td>HOUSE_AND_HOME</td>\n",
       "        <td>914</td>\n",
       "        <td>4.0417396061269147</td>\n",
       "    </tr>\n",
       "    <tr>\n",
       "        <td>GAME_WORD</td>\n",
       "        <td>913</td>\n",
       "        <td>4.3498247535596933</td>\n",
       "    </tr>\n",
       "    <tr>\n",
       "        <td>GAME_BOARD</td>\n",
       "        <td>814</td>\n",
       "        <td>4.2418427518427518</td>\n",
       "    </tr>\n",
       "    <tr>\n",
       "        <td>GAME_ROLE_PLAYING</td>\n",
       "        <td>759</td>\n",
       "        <td>4.3031620553359684</td>\n",
       "    </tr>\n",
       "    <tr>\n",
       "        <td>GAME_ADVENTURE</td>\n",
       "        <td>721</td>\n",
       "        <td>4.3074341192787795</td>\n",
       "    </tr>\n",
       "    <tr>\n",
       "        <td>GAME_TRIVIA</td>\n",
       "        <td>720</td>\n",
       "        <td>4.2251944444444444</td>\n",
       "    </tr>\n",
       "    <tr>\n",
       "        <td>GAME_RACING</td>\n",
       "        <td>706</td>\n",
       "        <td>4.2125212464589235</td>\n",
       "    </tr>\n",
       "    <tr>\n",
       "        <td>GAME_STRATEGY</td>\n",
       "        <td>691</td>\n",
       "        <td>4.2705354558610709</td>\n",
       "    </tr>\n",
       "    <tr>\n",
       "        <td>GAME_SPORTS</td>\n",
       "        <td>670</td>\n",
       "        <td>4.1693582089552239</td>\n",
       "    </tr>\n",
       "    <tr>\n",
       "        <td>EVENTS</td>\n",
       "        <td>613</td>\n",
       "        <td>4.3341435562805873</td>\n",
       "    </tr>\n",
       "    <tr>\n",
       "        <td>LIBRARIES_AND_DEMO</td>\n",
       "        <td>596</td>\n",
       "        <td>4.2282718120805369</td>\n",
       "    </tr>\n",
       "    <tr>\n",
       "        <td>PARENTING</td>\n",
       "        <td>594</td>\n",
       "        <td>4.3342929292929293</td>\n",
       "    </tr>\n",
       "    <tr>\n",
       "        <td>COMICS</td>\n",
       "        <td>486</td>\n",
       "        <td>4.2570781893004115</td>\n",
       "    </tr>\n",
       "    <tr>\n",
       "        <td>GAME_CASINO</td>\n",
       "        <td>364</td>\n",
       "        <td>4.3685439560439560</td>\n",
       "    </tr>\n",
       "    <tr>\n",
       "        <td>DATING</td>\n",
       "        <td>317</td>\n",
       "        <td>4.0589905362776025</td>\n",
       "    </tr>\n",
       "    <tr>\n",
       "        <td>GAME_MUSIC</td>\n",
       "        <td>224</td>\n",
       "        <td>4.1094642857142857</td>\n",
       "    </tr>\n",
       "    <tr>\n",
       "        <td>TRAVEL</td>\n",
       "        <td>1</td>\n",
       "        <td>3.9300000000000000</td>\n",
       "    </tr>\n",
       "</table>"
      ],
      "text/plain": [
       "[('EDUCATION', 32025, Decimal('4.3471875097580016')),\n",
       " ('BOOKS_AND_REFERENCE', 20658, Decimal('4.4793295575563946')),\n",
       " ('ENTERTAINMENT', 20233, Decimal('4.2570202145010626')),\n",
       " ('TOOLS', 20223, Decimal('4.1315729614795035')),\n",
       " ('MUSIC_AND_AUDIO', 17490, Decimal('4.4331932532875929')),\n",
       " ('LIFESTYLE', 14693, Decimal('4.2978302593071531')),\n",
       " ('FINANCE', 10200, Decimal('4.0374362745098039')),\n",
       " ('BUSINESS', 10083, Decimal('4.1419289893880789')),\n",
       " ('PERSONALIZATION', 9769, Decimal('4.4315733442522264')),\n",
       " ('PRODUCTIVITY', 8586, Decimal('4.1642080130444910')),\n",
       " ('NEWS_AND_MAGAZINES', 7984, Decimal('4.2280323146292585')),\n",
       " ('HEALTH_AND_FITNESS', 7112, Decimal('4.2006594488188976')),\n",
       " ('PHOTOGRAPHY', 6961, Decimal('4.1682876023559833')),\n",
       " ('TRAVEL_AND_LOCAL', 6479, Decimal('4.1285985491588208')),\n",
       " ('COMMUNICATION', 5317, Decimal('4.2409290953545232')),\n",
       " ('SHOPPING', 5306, Decimal('4.2025914059555221')),\n",
       " ('SPORTS', 5299, Decimal('4.2866031326665409')),\n",
       " ('SOCIAL', 4673, Decimal('4.3635330622726300')),\n",
       " ('MAPS_AND_NAVIGATION', 3948, Decimal('4.0154154002026342')),\n",
       " ('MEDICAL', 3348, Decimal('4.2327688172043011')),\n",
       " ('GAME_PUZZLE', 3249, Decimal('4.3486580486303478')),\n",
       " ('FOOD_AND_DRINK', 3122, Decimal('4.3146412556053812')),\n",
       " ('VIDEO_PLAYERS', 2581, Decimal('4.0501588531576908')),\n",
       " ('GAME_CASUAL', 2240, Decimal('4.2449062500000000')),\n",
       " ('GAME_ARCADE', 2074, Decimal('4.2738862102217936')),\n",
       " ('AUTO_AND_VEHICLES', 2018, Decimal('4.1275520317145689')),\n",
       " ('GAME_EDUCATIONAL', 1718, Decimal('4.2577066356228172')),\n",
       " ('ART_AND_DESIGN', 1698, Decimal('4.2251707891637220')),\n",
       " ('WEATHER', 1523, Decimal('4.2000328299409061')),\n",
       " ('GAME_SIMULATION', 1335, Decimal('4.2012209737827715')),\n",
       " ('GAME_ACTION', 1289, Decimal('4.2558805275407292')),\n",
       " ('GAME_CARD', 1098, Decimal('4.2703187613843352')),\n",
       " ('BEAUTY', 955, Decimal('4.2945968586387435')),\n",
       " ('HOUSE_AND_HOME', 914, Decimal('4.0417396061269147')),\n",
       " ('GAME_WORD', 913, Decimal('4.3498247535596933')),\n",
       " ('GAME_BOARD', 814, Decimal('4.2418427518427518')),\n",
       " ('GAME_ROLE_PLAYING', 759, Decimal('4.3031620553359684')),\n",
       " ('GAME_ADVENTURE', 721, Decimal('4.3074341192787795')),\n",
       " ('GAME_TRIVIA', 720, Decimal('4.2251944444444444')),\n",
       " ('GAME_RACING', 706, Decimal('4.2125212464589235')),\n",
       " ('GAME_STRATEGY', 691, Decimal('4.2705354558610709')),\n",
       " ('GAME_SPORTS', 670, Decimal('4.1693582089552239')),\n",
       " ('EVENTS', 613, Decimal('4.3341435562805873')),\n",
       " ('LIBRARIES_AND_DEMO', 596, Decimal('4.2282718120805369')),\n",
       " ('PARENTING', 594, Decimal('4.3342929292929293')),\n",
       " ('COMICS', 486, Decimal('4.2570781893004115')),\n",
       " ('GAME_CASINO', 364, Decimal('4.3685439560439560')),\n",
       " ('DATING', 317, Decimal('4.0589905362776025')),\n",
       " ('GAME_MUSIC', 224, Decimal('4.1094642857142857')),\n",
       " ('TRAVEL', 1, Decimal('3.9300000000000000'))]"
      ]
     },
     "execution_count": 74,
     "metadata": {},
     "output_type": "execute_result"
    }
   ],
   "source": [
    "%%sql\n",
    "SELECT category_name,count(category_name),avg_rating\n",
    "FROM problem3_3\n",
    "GROUP BY category_name,avg_rating\n",
    "ORDER BY count DESC;"
   ]
  },
  {
   "cell_type": "markdown",
   "metadata": {},
   "source": [
    "## 3)     What is the relationship between price and installations of applications in their categories? Are they professional applications?"
   ]
  },
  {
   "cell_type": "code",
   "execution_count": 75,
   "metadata": {},
   "outputs": [
    {
     "name": "stdout",
     "output_type": "stream",
     "text": [
      " * postgresql://student@/Group1\n",
      "Done.\n",
      "Done.\n"
     ]
    },
    {
     "data": {
      "text/plain": [
       "[]"
      ]
     },
     "execution_count": 75,
     "metadata": {},
     "output_type": "execute_result"
    }
   ],
   "source": [
    "%%sql\n",
    "DROP VIEW IF EXISTS relation CASCADE;\n",
    "\n",
    "CREATE VIEW relation AS\n",
    "\n",
    "SELECT price_number,install_number\n",
    "FROM Price, install\n",
    "WHERE install.key = Price.key;"
   ]
  },
  {
   "cell_type": "code",
   "execution_count": 76,
   "metadata": {},
   "outputs": [
    {
     "name": "stdout",
     "output_type": "stream",
     "text": [
      " * postgresql://student@/Group1\n",
      "10 rows affected.\n"
     ]
    },
    {
     "data": {
      "text/html": [
       "<table>\n",
       "    <tr>\n",
       "        <th>install_number</th>\n",
       "        <th>count</th>\n",
       "        <th>avg_price_number</th>\n",
       "    </tr>\n",
       "    <tr>\n",
       "        <td>5000000000</td>\n",
       "        <td>3</td>\n",
       "        <td>0E-20</td>\n",
       "    </tr>\n",
       "    <tr>\n",
       "        <td>1000000000</td>\n",
       "        <td>24</td>\n",
       "        <td>0E-20</td>\n",
       "    </tr>\n",
       "    <tr>\n",
       "        <td>500000000</td>\n",
       "        <td>35</td>\n",
       "        <td>0E-20</td>\n",
       "    </tr>\n",
       "    <tr>\n",
       "        <td>100000000</td>\n",
       "        <td>283</td>\n",
       "        <td>0E-20</td>\n",
       "    </tr>\n",
       "    <tr>\n",
       "        <td>50000000</td>\n",
       "        <td>414</td>\n",
       "        <td>0E-20</td>\n",
       "    </tr>\n",
       "    <tr>\n",
       "        <td>10000000</td>\n",
       "        <td>1</td>\n",
       "        <td>2.6600000000000000</td>\n",
       "    </tr>\n",
       "    <tr>\n",
       "        <td>10000000</td>\n",
       "        <td>2819</td>\n",
       "        <td>2.6600000000000000</td>\n",
       "    </tr>\n",
       "    <tr>\n",
       "        <td>10000000</td>\n",
       "        <td>1</td>\n",
       "        <td>2.6600000000000000</td>\n",
       "    </tr>\n",
       "    <tr>\n",
       "        <td>5000000</td>\n",
       "        <td>1</td>\n",
       "        <td>0.49500000000000000000</td>\n",
       "    </tr>\n",
       "    <tr>\n",
       "        <td>5000000</td>\n",
       "        <td>2803</td>\n",
       "        <td>0.49500000000000000000</td>\n",
       "    </tr>\n",
       "</table>"
      ],
      "text/plain": [
       "[(Decimal('5000000000'), 3, Decimal('0E-20')),\n",
       " (Decimal('1000000000'), 24, Decimal('0E-20')),\n",
       " (Decimal('500000000'), 35, Decimal('0E-20')),\n",
       " (Decimal('100000000'), 283, Decimal('0E-20')),\n",
       " (Decimal('50000000'), 414, Decimal('0E-20')),\n",
       " (Decimal('10000000'), 1, Decimal('2.6600000000000000')),\n",
       " (Decimal('10000000'), 2819, Decimal('2.6600000000000000')),\n",
       " (Decimal('10000000'), 1, Decimal('2.6600000000000000')),\n",
       " (Decimal('5000000'), 1, Decimal('0.49500000000000000000')),\n",
       " (Decimal('5000000'), 2803, Decimal('0.49500000000000000000'))]"
      ]
     },
     "execution_count": 76,
     "metadata": {},
     "output_type": "execute_result"
    }
   ],
   "source": [
    "%%sql\n",
    "SELECT install_number,count(install_number),AVG(price_number) OVER(PARTITION BY install_number) AS avg_price_number\n",
    "FROM relation\n",
    "GROUP BY install_number,price_number\n",
    "ORDER BY install_number DESC\n",
    "LIMIT 10;"
   ]
  },
  {
   "cell_type": "markdown",
   "metadata": {},
   "source": [
    "## 4)     How many applications with top 1% installations are paid ones in a certain category? Choose several categories with largest number of paid installations and do the analysis."
   ]
  },
  {
   "cell_type": "code",
   "execution_count": 77,
   "metadata": {},
   "outputs": [
    {
     "name": "stdout",
     "output_type": "stream",
     "text": [
      " * postgresql://student@/Group1\n",
      "Done.\n",
      "Done.\n"
     ]
    },
    {
     "data": {
      "text/plain": [
       "[]"
      ]
     },
     "execution_count": 77,
     "metadata": {},
     "output_type": "execute_result"
    }
   ],
   "source": [
    "%%sql\n",
    "DROP VIEW IF EXISTS top1 CASCADE;\n",
    "\n",
    "CREATE VIEW top1 AS\n",
    "\n",
    "SELECT is_paid,is_top1percent_by_cate\n",
    "FROM Price, install\n",
    "WHERE install.key = Price.key;"
   ]
  },
  {
   "cell_type": "code",
   "execution_count": 78,
   "metadata": {},
   "outputs": [
    {
     "name": "stdout",
     "output_type": "stream",
     "text": [
      " * postgresql://student@/Group1\n",
      "1 rows affected.\n"
     ]
    },
    {
     "data": {
      "text/html": [
       "<table>\n",
       "    <tr>\n",
       "        <th>count</th>\n",
       "        <th>Paid</th>\n",
       "        <th>Free</th>\n",
       "    </tr>\n",
       "    <tr>\n",
       "        <td>2780</td>\n",
       "        <td>0</td>\n",
       "        <td>2780</td>\n",
       "    </tr>\n",
       "</table>"
      ],
      "text/plain": [
       "[(2780, 0, 2780)]"
      ]
     },
     "execution_count": 78,
     "metadata": {},
     "output_type": "execute_result"
    }
   ],
   "source": [
    "%%sql\n",
    "SELECT count(is_top1percent_by_cate),\n",
    "SUM(CASE WHEN is_paid =1 then 1\n",
    "    ELSE 0 END) AS \"Paid\",\n",
    "SUM(CASE WHEN is_paid =0 then 1\n",
    "   ELSE 0 END) AS \"Free\"\n",
    "\n",
    "FROM top1\n",
    "WHERE is_top1percent_by_cate ='True';"
   ]
  },
  {
   "cell_type": "code",
   "execution_count": null,
   "metadata": {},
   "outputs": [],
   "source": []
  }
 ],
 "metadata": {
  "kernelspec": {
   "display_name": "Python 3",
   "language": "python",
   "name": "python3"
  },
  "language_info": {
   "codemirror_mode": {
    "name": "ipython",
    "version": 3
   },
   "file_extension": ".py",
   "mimetype": "text/x-python",
   "name": "python",
   "nbconvert_exporter": "python",
   "pygments_lexer": "ipython3",
   "version": "3.5.3"
  }
 },
 "nbformat": 4,
 "nbformat_minor": 2
}
